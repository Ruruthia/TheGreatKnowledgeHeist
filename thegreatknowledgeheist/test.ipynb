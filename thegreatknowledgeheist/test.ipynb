{
 "cells": [
  {
   "cell_type": "code",
   "execution_count": 5,
   "metadata": {
    "collapsed": true
   },
   "outputs": [],
   "source": [
    "import pytorch_lightning as pl\n",
    "import torch\n",
    "import wandb\n",
    "from datasets import load_dataset\n",
    "from pytorch_lightning import Trainer\n",
    "from pytorch_lightning.loggers import WandbLogger\n",
    "from torch.optim import Adam\n",
    "from transformers import BertForSequenceClassification, BertForTokenClassification\n",
    "from transformers import BertTokenizer\n",
    "\n",
    "from thegreatknowledgeheist.models.bert import SentimentBert\n"
   ]
  },
  {
   "cell_type": "code",
   "execution_count": 7,
   "outputs": [
    {
     "name": "stderr",
     "output_type": "stream",
     "text": [
      "Using custom data configuration default\n",
      "Reusing dataset acronym_identification (/home/maria/.cache/huggingface/datasets/acronym_identification/default/1.0.0/e84facf8db848a4c7aa58addbebaf8a161c4146ca367e923ca972673cc915425)\n"
     ]
    },
    {
     "data": {
      "text/plain": "  0%|          | 0/3 [00:00<?, ?it/s]",
      "application/vnd.jupyter.widget-view+json": {
       "version_major": 2,
       "version_minor": 0,
       "model_id": "e55db9bea12443e4b3afdff6ea55d1d7"
      }
     },
     "metadata": {},
     "output_type": "display_data"
    }
   ],
   "source": [
    "dataset = load_dataset(\"acronym_identification\")"
   ],
   "metadata": {
    "collapsed": false,
    "pycharm": {
     "name": "#%%\n"
    }
   }
  },
  {
   "cell_type": "code",
   "execution_count": 8,
   "outputs": [],
   "source": [
    "def tokenize_and_preserve_labels(row, tokenizer):\n",
    "\n",
    "    tokenized_sentence = []\n",
    "    labels = []\n",
    "\n",
    "    for word, label in zip(row['tokens'], row['labels']):\n",
    "\n",
    "        # Tokenize the word and count # of subwords the word is broken into\n",
    "        tokenized_word = tokenizer.tokenize(word.lower())\n",
    "        n_subwords = len(tokenized_word)\n",
    "\n",
    "        # Add the tokenized word to the final tokenized word list\n",
    "        tokenized_sentence.extend(tokenized_word)\n",
    "\n",
    "        # Add the same label to the new list of labels `n_subwords` times\n",
    "        labels.extend([label] * n_subwords)\n",
    "    row['labels'] = labels\n",
    "    return row"
   ],
   "metadata": {
    "collapsed": false,
    "pycharm": {
     "name": "#%%\n"
    }
   }
  },
  {
   "cell_type": "code",
   "execution_count": 10,
   "outputs": [],
   "source": [
    "tokenizer = BertTokenizer.from_pretrained(\n",
    "    \"bert-base-uncased\",\n",
    "    return_tensors=\"pt\",\n",
    "    do_lower_case=True\n",
    ")"
   ],
   "metadata": {
    "collapsed": false,
    "pycharm": {
     "name": "#%%\n"
    }
   }
  },
  {
   "cell_type": "code",
   "execution_count": 11,
   "outputs": [
    {
     "name": "stderr",
     "output_type": "stream",
     "text": [
      "Loading cached processed dataset at /home/maria/.cache/huggingface/datasets/acronym_identification/default/1.0.0/e84facf8db848a4c7aa58addbebaf8a161c4146ca367e923ca972673cc915425/cache-5a5f1ed11d73e260.arrow\n",
      "Loading cached processed dataset at /home/maria/.cache/huggingface/datasets/acronym_identification/default/1.0.0/e84facf8db848a4c7aa58addbebaf8a161c4146ca367e923ca972673cc915425/cache-a438d046ddaa5cc1.arrow\n",
      "Loading cached processed dataset at /home/maria/.cache/huggingface/datasets/acronym_identification/default/1.0.0/e84facf8db848a4c7aa58addbebaf8a161c4146ca367e923ca972673cc915425/cache-f3ab26e3078ccb76.arrow\n",
      "Loading cached processed dataset at /home/maria/.cache/huggingface/datasets/acronym_identification/default/1.0.0/e84facf8db848a4c7aa58addbebaf8a161c4146ca367e923ca972673cc915425/cache-543ecd6df9c45d59.arrow\n",
      "Loading cached processed dataset at /home/maria/.cache/huggingface/datasets/acronym_identification/default/1.0.0/e84facf8db848a4c7aa58addbebaf8a161c4146ca367e923ca972673cc915425/cache-b71b868b21f9e761.arrow\n",
      "Loading cached processed dataset at /home/maria/.cache/huggingface/datasets/acronym_identification/default/1.0.0/e84facf8db848a4c7aa58addbebaf8a161c4146ca367e923ca972673cc915425/cache-e10f549e3b03dd61.arrow\n"
     ]
    }
   ],
   "source": [
    "dataloaders = {}\n",
    "# test jest kijowy\n",
    "for type in [\"train\", \"validation\"]:\n",
    "    data = dataset[type]\n",
    "    data = data.map(lambda x: tokenize_and_preserve_labels(x, tokenizer))\n",
    "    encoded_data = data.map(\n",
    "        lambda row: tokenizer(\" \".join(row[\"tokens\"]), padding=\"max_length\", max_length=50, truncation=True)\n",
    "    )\n",
    "    encoded_data = encoded_data.map(\n",
    "        lambda row: {\"labels\": row[\"labels\"][: 50]\n",
    "            + [0 for _ in range(50 - len(row[\"labels\"]))]}\n",
    "    )\n",
    "    encoded_data.set_format(\n",
    "        type=\"torch\",\n",
    "        columns=[\"input_ids\", \"token_type_ids\", \"attention_mask\", \"labels\"],\n",
    "    )\n",
    "    dataloaders[type] = torch.utils.data.DataLoader(\n",
    "        encoded_data, batch_size=16, num_workers=8\n",
    "    )"
   ],
   "metadata": {
    "collapsed": false,
    "pycharm": {
     "name": "#%%\n"
    }
   }
  },
  {
   "cell_type": "code",
   "execution_count": 12,
   "outputs": [
    {
     "name": "stderr",
     "output_type": "stream",
     "text": [
      "Some weights of the model checkpoint at bert-base-uncased were not used when initializing BertForTokenClassification: ['cls.predictions.transform.LayerNorm.weight', 'cls.predictions.transform.dense.bias', 'cls.predictions.transform.dense.weight', 'cls.predictions.transform.LayerNorm.bias', 'cls.seq_relationship.weight', 'cls.seq_relationship.bias', 'cls.predictions.decoder.weight', 'cls.predictions.bias']\n",
      "- This IS expected if you are initializing BertForTokenClassification from the checkpoint of a model trained on another task or with another architecture (e.g. initializing a BertForSequenceClassification model from a BertForPreTraining model).\n",
      "- This IS NOT expected if you are initializing BertForTokenClassification from the checkpoint of a model that you expect to be exactly identical (initializing a BertForSequenceClassification model from a BertForSequenceClassification model).\n",
      "Some weights of BertForTokenClassification were not initialized from the model checkpoint at bert-base-uncased and are newly initialized: ['classifier.bias', 'classifier.weight']\n",
      "You should probably TRAIN this model on a down-stream task to be able to use it for predictions and inference.\n"
     ]
    }
   ],
   "source": [
    "model = BertForTokenClassification.from_pretrained(\n",
    "            \"bert-base-uncased\", num_labels=5\n",
    "        )"
   ],
   "metadata": {
    "collapsed": false,
    "pycharm": {
     "name": "#%%\n"
    }
   }
  },
  {
   "cell_type": "code",
   "execution_count": 15,
   "outputs": [
    {
     "name": "stdout",
     "output_type": "stream",
     "text": [
      "\n",
      "tensor(1.6214, grad_fn=<NllLossBackward0>)\n",
      "tensor([[False, False, False, False, False, False, False, False, False, False,\n",
      "         False, False, False, False, False, False, False, False, False, False,\n",
      "         False, False, False, False, False, False, False, False, False, False,\n",
      "         False, False, False, False, False, False,  True,  True,  True,  True,\n",
      "         False,  True, False,  True, False, False, False,  True, False, False],\n",
      "        [False, False, False, False, False, False, False, False, False, False,\n",
      "          True,  True, False, False,  True, False, False, False, False,  True,\n",
      "         False, False, False, False, False, False, False, False, False, False,\n",
      "         False, False, False, False,  True,  True,  True,  True,  True,  True,\n",
      "          True,  True,  True,  True, False,  True, False, False,  True, False],\n",
      "        [ True,  True, False,  True, False, False, False, False, False,  True,\n",
      "         False, False, False, False, False, False, False, False, False, False,\n",
      "         False, False, False, False, False, False, False, False, False,  True,\n",
      "         False, False, False,  True, False, False, False,  True, False,  True,\n",
      "          True, False,  True,  True, False,  True,  True, False, False, False],\n",
      "        [False, False,  True, False, False, False, False, False, False, False,\n",
      "         False, False, False, False, False, False, False, False, False, False,\n",
      "         False, False, False, False, False, False, False, False, False, False,\n",
      "         False, False, False, False, False, False, False, False, False, False,\n",
      "         False, False, False, False,  True, False,  True, False,  True,  True],\n",
      "        [ True,  True, False, False,  True, False, False, False,  True,  True,\n",
      "         False, False, False,  True,  True, False, False, False,  True,  True,\n",
      "         False, False, False, False,  True,  True,  True,  True,  True, False,\n",
      "         False, False, False, False, False, False,  True,  True, False,  True,\n",
      "         False, False, False, False, False, False, False, False, False, False],\n",
      "        [ True,  True,  True, False, False, False, False, False, False, False,\n",
      "         False, False, False,  True, False, False, False, False, False,  True,\n",
      "         False, False, False, False,  True, False, False, False,  True, False,\n",
      "         False, False,  True, False, False, False, False, False, False,  True,\n",
      "         False,  True,  True, False,  True, False, False, False, False,  True],\n",
      "        [False, False, False, False, False, False, False, False, False,  True,\n",
      "         False,  True, False,  True, False,  True, False, False, False, False,\n",
      "         False, False, False, False, False, False, False, False,  True, False,\n",
      "         False, False, False,  True, False, False, False, False, False, False,\n",
      "         False,  True, False, False, False, False,  True,  True,  True,  True],\n",
      "        [False, False, False, False, False, False, False, False, False, False,\n",
      "         False,  True, False, False, False, False, False, False, False, False,\n",
      "         False,  True, False, False, False,  True, False, False, False, False,\n",
      "         False, False, False,  True,  True,  True,  True,  True,  True,  True,\n",
      "          True,  True,  True,  True,  True, False, False, False, False, False],\n",
      "        [False,  True, False, False, False, False, False, False, False,  True,\n",
      "         False, False, False, False, False,  True, False, False, False, False,\n",
      "         False, False, False, False, False, False, False,  True, False,  True,\n",
      "         False, False, False, False, False, False, False, False, False, False,\n",
      "         False, False, False, False, False, False, False, False, False,  True],\n",
      "        [False, False, False, False, False, False, False, False, False, False,\n",
      "         False, False, False,  True, False, False, False, False, False, False,\n",
      "          True, False, False, False, False, False, False, False, False, False,\n",
      "         False, False, False, False, False, False, False, False, False, False,\n",
      "         False, False, False, False,  True, False,  True,  True, False,  True],\n",
      "        [False, False, False, False, False, False, False, False, False, False,\n",
      "         False,  True,  True,  True, False, False, False, False, False,  True,\n",
      "         False, False, False, False,  True, False, False, False, False,  True,\n",
      "          True,  True,  True,  True,  True, False,  True, False, False,  True,\n",
      "          True, False,  True, False, False,  True, False, False, False,  True],\n",
      "        [False, False, False, False, False, False, False, False, False, False,\n",
      "         False, False,  True, False, False, False, False, False, False, False,\n",
      "         False, False, False, False, False, False, False, False, False,  True,\n",
      "          True, False, False,  True, False, False, False, False, False, False,\n",
      "         False, False, False,  True, False, False,  True,  True, False, False],\n",
      "        [False,  True, False,  True,  True, False, False, False, False, False,\n",
      "         False, False, False, False, False, False, False, False, False, False,\n",
      "         False, False, False, False, False, False, False, False, False, False,\n",
      "         False, False, False, False, False, False, False, False, False, False,\n",
      "         False,  True, False,  True,  True,  True,  True,  True,  True,  True],\n",
      "        [False,  True, False, False, False, False, False, False, False, False,\n",
      "         False,  True, False, False, False, False, False, False,  True, False,\n",
      "         False, False, False, False, False,  True, False,  True, False, False,\n",
      "         False, False, False, False,  True,  True, False,  True,  True,  True,\n",
      "         False, False,  True, False,  True,  True,  True,  True,  True,  True],\n",
      "        [False, False, False, False, False, False,  True, False, False, False,\n",
      "         False, False, False,  True, False, False, False, False,  True,  True,\n",
      "         False, False, False, False, False, False, False, False, False, False,\n",
      "         False, False, False, False, False, False, False, False, False, False,\n",
      "         False, False, False, False, False, False, False, False, False, False],\n",
      "        [False, False, False, False,  True, False, False, False, False, False,\n",
      "         False, False, False, False, False, False, False, False,  True, False,\n",
      "         False, False, False, False, False,  True,  True,  True,  True,  True,\n",
      "          True,  True,  True,  True,  True,  True, False,  True,  True,  True,\n",
      "          True,  True,  True,  True,  True,  True,  True,  True,  True,  True]])\n"
     ]
    }
   ],
   "source": [
    "for b in dataloaders['validation']:\n",
    "    out = model(**b)\n",
    "    loss, logits = out[:2]\n",
    "    predicted_token_class_ids = logits.argmax(-1)\n",
    "    print()\n",
    "    print(loss)\n",
    "    print(predicted_token_class_ids == b['labels'])\n",
    "    break"
   ],
   "metadata": {
    "collapsed": false,
    "pycharm": {
     "name": "#%%\n"
    }
   }
  },
  {
   "cell_type": "code",
   "execution_count": null,
   "outputs": [],
   "source": [
    "# https://colab.research.google.com/github/NielsRogge/Transformers-Tutorials/blob/master/BERT/Custom_Named_Entity_Recognition_with_BERT_only_first_wordpiece.ipynb#scrollTo=dyAL9FIRRcTg"
   ],
   "metadata": {
    "collapsed": false,
    "pycharm": {
     "name": "#%%\n"
    }
   }
  },
  {
   "cell_type": "code",
   "execution_count": 19,
   "outputs": [],
   "source": [
    "from pathlib import Path\n",
    "from thegreatknowledgeheist.data import get_dataloaders\n",
    "GPUS = 1\n",
    "NUM_WORKERS = 8\n",
    "BATCH_SIZE = 8\n",
    "LR = 0.001\n",
    "EPS = 1e-8\n",
    "MAX_EPOCHS = 50\n",
    "PROJECT_ROOT = Path(\n",
    "    \"/home/maria/Documents/TheGreatKnowledgeHeist/thegreatknowledgeheist\"\n",
    ")\n",
    "dataloaders = get_dataloaders(\n",
    "    dataset_name=\"acronym_identification\",\n",
    "    path_to_dataset=str(PROJECT_ROOT / \"data\"),\n",
    "    batch_size=BATCH_SIZE,\n",
    "    num_workers=NUM_WORKERS,\n",
    ")"
   ],
   "metadata": {
    "collapsed": false,
    "pycharm": {
     "name": "#%%\n"
    }
   }
  },
  {
   "cell_type": "code",
   "execution_count": 24,
   "outputs": [
    {
     "name": "stdout",
     "output_type": "stream",
     "text": [
      "\n",
      "tensor(1.5436, grad_fn=<NllLossBackward0>)\n",
      "tensor([[False, False, False,  ..., False, False, False],\n",
      "        [False, False, False,  ...,  True,  True,  True],\n",
      "        [False, False, False,  ..., False, False, False],\n",
      "        ...,\n",
      "        [False,  True, False,  ..., False, False,  True],\n",
      "        [False, False, False,  ...,  True,  True, False],\n",
      "        [False,  True, False,  ...,  True,  True,  True]])\n"
     ]
    }
   ],
   "source": [
    "for b in dataloaders['train']:\n",
    "    out = model(**b)\n",
    "    loss, logits = out[:2]\n",
    "    predicted_token_class_ids = logits.argmax(-1)\n",
    "    print()\n",
    "    print(loss)\n",
    "    print(predicted_token_class_ids == b['labels'])\n",
    "    break"
   ],
   "metadata": {
    "collapsed": false,
    "pycharm": {
     "name": "#%%\n"
    }
   }
  },
  {
   "cell_type": "code",
   "execution_count": null,
   "outputs": [],
   "source": [],
   "metadata": {
    "collapsed": false,
    "pycharm": {
     "name": "#%%\n"
    }
   }
  }
 ],
 "metadata": {
  "kernelspec": {
   "display_name": "Python 3",
   "language": "python",
   "name": "python3"
  },
  "language_info": {
   "codemirror_mode": {
    "name": "ipython",
    "version": 2
   },
   "file_extension": ".py",
   "mimetype": "text/x-python",
   "name": "python",
   "nbconvert_exporter": "python",
   "pygments_lexer": "ipython2",
   "version": "2.7.6"
  }
 },
 "nbformat": 4,
 "nbformat_minor": 0
}