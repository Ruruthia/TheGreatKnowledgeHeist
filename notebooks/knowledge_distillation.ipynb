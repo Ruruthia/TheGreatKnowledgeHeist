{
 "cells": [
  {
   "cell_type": "code",
   "execution_count": 1,
   "outputs": [],
   "source": [
    "from typing import Sequence, Optional\n",
    "\n",
    "import pytorch_lightning as pl\n",
    "import wandb\n",
    "from pytorch_lightning import Trainer\n",
    "from pytorch_lightning.loggers import WandbLogger\n",
    "\n",
    "from thegreatknowledgeheist.data import get_dataloaders\n",
    "from thegreatknowledgeheist.io import load_yaml\n",
    "from thegreatknowledgeheist.models import BertFactory\n",
    "from thegreatknowledgeheist.models.bert import BaseBert\n",
    "from transformers import BertConfig"
   ],
   "metadata": {
    "collapsed": false,
    "pycharm": {
     "name": "#%%\n"
    }
   }
  },
  {
   "cell_type": "code",
   "execution_count": 2,
   "outputs": [],
   "source": [
    "def train_model(model, dataloaders, config):\n",
    "    checkpoint_callback = pl.callbacks.ModelCheckpoint(\n",
    "        monitor=\"val_loss\",\n",
    "        dirpath=f\"{config['outputs_path']}/model_checkpoints\",\n",
    "        filename=config[\"task\"] + \"-model-{epoch:02d}-{val_accuracy:.2f}\",\n",
    "        save_top_k=1,\n",
    "        mode=\"min\",\n",
    "    )\n",
    "\n",
    "    trainer = Trainer(\n",
    "        logger=WandbLogger(\n",
    "            save_dir=f\"{config['outputs_path']}/logs\",\n",
    "            project=\"experiments\",\n",
    "            entity=\"mma\",\n",
    "        ),\n",
    "        gpus=config[\"gpus\"],\n",
    "        max_epochs=config[\"max_epochs\"],\n",
    "        callbacks=[checkpoint_callback],\n",
    "    )\n",
    "\n",
    "    trainer.fit(model, dataloaders[\"train\"], dataloaders[\"val\"])\n",
    "    wandb.finish()\n"
   ],
   "metadata": {
    "collapsed": false,
    "pycharm": {
     "name": "#%%\n"
    }
   }
  },
  {
   "cell_type": "code",
   "execution_count": 3,
   "outputs": [],
   "source": [
    "config_path = '/pio/scratch/1/i308362/TheGreatKnowledgeHeist/configs/train_config.yaml'\n"
   ],
   "metadata": {
    "collapsed": false,
    "pycharm": {
     "name": "#%%\n"
    }
   }
  },
  {
   "cell_type": "code",
   "execution_count": 4,
   "outputs": [
    {
     "name": "stderr",
     "output_type": "stream",
     "text": [
      "Some weights of the model checkpoint at bert-base-uncased were not used when initializing BertForMultipleChoice: ['cls.predictions.decoder.weight', 'cls.seq_relationship.weight', 'cls.seq_relationship.bias', 'cls.predictions.transform.LayerNorm.weight', 'cls.predictions.transform.LayerNorm.bias', 'cls.predictions.transform.dense.weight', 'cls.predictions.transform.dense.bias', 'cls.predictions.bias']\n",
      "- This IS expected if you are initializing BertForMultipleChoice from the checkpoint of a model trained on another task or with another architecture (e.g. initializing a BertForSequenceClassification model from a BertForPreTraining model).\n",
      "- This IS NOT expected if you are initializing BertForMultipleChoice from the checkpoint of a model that you expect to be exactly identical (initializing a BertForSequenceClassification model from a BertForSequenceClassification model).\n",
      "Some weights of BertForMultipleChoice were not initialized from the model checkpoint at bert-base-uncased and are newly initialized: ['classifier.weight', 'classifier.bias']\n",
      "You should probably TRAIN this model on a down-stream task to be able to use it for predictions and inference.\n"
     ]
    },
    {
     "name": "stdout",
     "output_type": "stream",
     "text": [
      "This layer will be frozen: bert.embeddings.word_embeddings.weight\n",
      "This layer will be frozen: bert.embeddings.position_embeddings.weight\n",
      "This layer will be frozen: bert.embeddings.token_type_embeddings.weight\n",
      "This layer will be frozen: bert.embeddings.LayerNorm.weight\n",
      "This layer will be frozen: bert.embeddings.LayerNorm.bias\n",
      "This layer will be frozen: bert.encoder.layer.0.attention.self.query.weight\n",
      "This layer will be frozen: bert.encoder.layer.0.attention.self.query.bias\n",
      "This layer will be frozen: bert.encoder.layer.0.attention.self.key.weight\n",
      "This layer will be frozen: bert.encoder.layer.0.attention.self.key.bias\n",
      "This layer will be frozen: bert.encoder.layer.0.attention.self.value.weight\n",
      "This layer will be frozen: bert.encoder.layer.0.attention.self.value.bias\n",
      "This layer will be frozen: bert.encoder.layer.0.attention.output.dense.weight\n",
      "This layer will be frozen: bert.encoder.layer.0.attention.output.dense.bias\n",
      "This layer will be frozen: bert.encoder.layer.0.attention.output.LayerNorm.weight\n",
      "This layer will be frozen: bert.encoder.layer.0.attention.output.LayerNorm.bias\n",
      "This layer will be frozen: bert.encoder.layer.0.intermediate.dense.weight\n",
      "This layer will be frozen: bert.encoder.layer.0.intermediate.dense.bias\n",
      "This layer will be frozen: bert.encoder.layer.0.output.dense.weight\n",
      "This layer will be frozen: bert.encoder.layer.0.output.dense.bias\n",
      "This layer will be frozen: bert.encoder.layer.0.output.LayerNorm.weight\n",
      "This layer will be frozen: bert.encoder.layer.0.output.LayerNorm.bias\n",
      "This layer will be frozen: bert.encoder.layer.1.attention.self.query.weight\n",
      "This layer will be frozen: bert.encoder.layer.1.attention.self.query.bias\n",
      "This layer will be frozen: bert.encoder.layer.1.attention.self.key.weight\n",
      "This layer will be frozen: bert.encoder.layer.1.attention.self.key.bias\n",
      "This layer will be frozen: bert.encoder.layer.1.attention.self.value.weight\n",
      "This layer will be frozen: bert.encoder.layer.1.attention.self.value.bias\n",
      "This layer will be frozen: bert.encoder.layer.1.attention.output.dense.weight\n",
      "This layer will be frozen: bert.encoder.layer.1.attention.output.dense.bias\n",
      "This layer will be frozen: bert.encoder.layer.1.attention.output.LayerNorm.weight\n",
      "This layer will be frozen: bert.encoder.layer.1.attention.output.LayerNorm.bias\n",
      "This layer will be frozen: bert.encoder.layer.1.intermediate.dense.weight\n",
      "This layer will be frozen: bert.encoder.layer.1.intermediate.dense.bias\n",
      "This layer will be frozen: bert.encoder.layer.1.output.dense.weight\n",
      "This layer will be frozen: bert.encoder.layer.1.output.dense.bias\n",
      "This layer will be frozen: bert.encoder.layer.1.output.LayerNorm.weight\n",
      "This layer will be frozen: bert.encoder.layer.1.output.LayerNorm.bias\n",
      "This layer will be frozen: bert.encoder.layer.2.attention.self.query.weight\n",
      "This layer will be frozen: bert.encoder.layer.2.attention.self.query.bias\n",
      "This layer will be frozen: bert.encoder.layer.2.attention.self.key.weight\n",
      "This layer will be frozen: bert.encoder.layer.2.attention.self.key.bias\n",
      "This layer will be frozen: bert.encoder.layer.2.attention.self.value.weight\n",
      "This layer will be frozen: bert.encoder.layer.2.attention.self.value.bias\n",
      "This layer will be frozen: bert.encoder.layer.2.attention.output.dense.weight\n",
      "This layer will be frozen: bert.encoder.layer.2.attention.output.dense.bias\n",
      "This layer will be frozen: bert.encoder.layer.2.attention.output.LayerNorm.weight\n",
      "This layer will be frozen: bert.encoder.layer.2.attention.output.LayerNorm.bias\n",
      "This layer will be frozen: bert.encoder.layer.2.intermediate.dense.weight\n",
      "This layer will be frozen: bert.encoder.layer.2.intermediate.dense.bias\n",
      "This layer will be frozen: bert.encoder.layer.2.output.dense.weight\n",
      "This layer will be frozen: bert.encoder.layer.2.output.dense.bias\n",
      "This layer will be frozen: bert.encoder.layer.2.output.LayerNorm.weight\n",
      "This layer will be frozen: bert.encoder.layer.2.output.LayerNorm.bias\n",
      "This layer will be frozen: bert.encoder.layer.3.attention.self.query.weight\n",
      "This layer will be frozen: bert.encoder.layer.3.attention.self.query.bias\n",
      "This layer will be frozen: bert.encoder.layer.3.attention.self.key.weight\n",
      "This layer will be frozen: bert.encoder.layer.3.attention.self.key.bias\n",
      "This layer will be frozen: bert.encoder.layer.3.attention.self.value.weight\n",
      "This layer will be frozen: bert.encoder.layer.3.attention.self.value.bias\n",
      "This layer will be frozen: bert.encoder.layer.3.attention.output.dense.weight\n",
      "This layer will be frozen: bert.encoder.layer.3.attention.output.dense.bias\n",
      "This layer will be frozen: bert.encoder.layer.3.attention.output.LayerNorm.weight\n",
      "This layer will be frozen: bert.encoder.layer.3.attention.output.LayerNorm.bias\n",
      "This layer will be frozen: bert.encoder.layer.3.intermediate.dense.weight\n",
      "This layer will be frozen: bert.encoder.layer.3.intermediate.dense.bias\n",
      "This layer will be frozen: bert.encoder.layer.3.output.dense.weight\n",
      "This layer will be frozen: bert.encoder.layer.3.output.dense.bias\n",
      "This layer will be frozen: bert.encoder.layer.3.output.LayerNorm.weight\n",
      "This layer will be frozen: bert.encoder.layer.3.output.LayerNorm.bias\n",
      "This layer will be frozen: bert.encoder.layer.4.attention.self.query.weight\n",
      "This layer will be frozen: bert.encoder.layer.4.attention.self.query.bias\n",
      "This layer will be frozen: bert.encoder.layer.4.attention.self.key.weight\n",
      "This layer will be frozen: bert.encoder.layer.4.attention.self.key.bias\n",
      "This layer will be frozen: bert.encoder.layer.4.attention.self.value.weight\n",
      "This layer will be frozen: bert.encoder.layer.4.attention.self.value.bias\n",
      "This layer will be frozen: bert.encoder.layer.4.attention.output.dense.weight\n",
      "This layer will be frozen: bert.encoder.layer.4.attention.output.dense.bias\n",
      "This layer will be frozen: bert.encoder.layer.4.attention.output.LayerNorm.weight\n",
      "This layer will be frozen: bert.encoder.layer.4.attention.output.LayerNorm.bias\n",
      "This layer will be frozen: bert.encoder.layer.4.intermediate.dense.weight\n",
      "This layer will be frozen: bert.encoder.layer.4.intermediate.dense.bias\n",
      "This layer will be frozen: bert.encoder.layer.4.output.dense.weight\n",
      "This layer will be frozen: bert.encoder.layer.4.output.dense.bias\n",
      "This layer will be frozen: bert.encoder.layer.4.output.LayerNorm.weight\n",
      "This layer will be frozen: bert.encoder.layer.4.output.LayerNorm.bias\n",
      "This layer will be frozen: bert.encoder.layer.5.attention.self.query.weight\n",
      "This layer will be frozen: bert.encoder.layer.5.attention.self.query.bias\n",
      "This layer will be frozen: bert.encoder.layer.5.attention.self.key.weight\n",
      "This layer will be frozen: bert.encoder.layer.5.attention.self.key.bias\n",
      "This layer will be frozen: bert.encoder.layer.5.attention.self.value.weight\n",
      "This layer will be frozen: bert.encoder.layer.5.attention.self.value.bias\n",
      "This layer will be frozen: bert.encoder.layer.5.attention.output.dense.weight\n",
      "This layer will be frozen: bert.encoder.layer.5.attention.output.dense.bias\n",
      "This layer will be frozen: bert.encoder.layer.5.attention.output.LayerNorm.weight\n",
      "This layer will be frozen: bert.encoder.layer.5.attention.output.LayerNorm.bias\n",
      "This layer will be frozen: bert.encoder.layer.5.intermediate.dense.weight\n",
      "This layer will be frozen: bert.encoder.layer.5.intermediate.dense.bias\n",
      "This layer will be frozen: bert.encoder.layer.5.output.dense.weight\n",
      "This layer will be frozen: bert.encoder.layer.5.output.dense.bias\n",
      "This layer will be frozen: bert.encoder.layer.5.output.LayerNorm.weight\n",
      "This layer will be frozen: bert.encoder.layer.5.output.LayerNorm.bias\n",
      "This layer will be frozen: bert.encoder.layer.6.attention.self.query.weight\n",
      "This layer will be frozen: bert.encoder.layer.6.attention.self.query.bias\n",
      "This layer will be frozen: bert.encoder.layer.6.attention.self.key.weight\n",
      "This layer will be frozen: bert.encoder.layer.6.attention.self.key.bias\n",
      "This layer will be frozen: bert.encoder.layer.6.attention.self.value.weight\n",
      "This layer will be frozen: bert.encoder.layer.6.attention.self.value.bias\n",
      "This layer will be frozen: bert.encoder.layer.6.attention.output.dense.weight\n",
      "This layer will be frozen: bert.encoder.layer.6.attention.output.dense.bias\n",
      "This layer will be frozen: bert.encoder.layer.6.attention.output.LayerNorm.weight\n",
      "This layer will be frozen: bert.encoder.layer.6.attention.output.LayerNorm.bias\n",
      "This layer will be frozen: bert.encoder.layer.6.intermediate.dense.weight\n",
      "This layer will be frozen: bert.encoder.layer.6.intermediate.dense.bias\n",
      "This layer will be frozen: bert.encoder.layer.6.output.dense.weight\n",
      "This layer will be frozen: bert.encoder.layer.6.output.dense.bias\n",
      "This layer will be frozen: bert.encoder.layer.6.output.LayerNorm.weight\n",
      "This layer will be frozen: bert.encoder.layer.6.output.LayerNorm.bias\n",
      "This layer will be frozen: bert.encoder.layer.7.attention.self.query.weight\n",
      "This layer will be frozen: bert.encoder.layer.7.attention.self.query.bias\n",
      "This layer will be frozen: bert.encoder.layer.7.attention.self.key.weight\n",
      "This layer will be frozen: bert.encoder.layer.7.attention.self.key.bias\n",
      "This layer will be frozen: bert.encoder.layer.7.attention.self.value.weight\n",
      "This layer will be frozen: bert.encoder.layer.7.attention.self.value.bias\n",
      "This layer will be frozen: bert.encoder.layer.7.attention.output.dense.weight\n",
      "This layer will be frozen: bert.encoder.layer.7.attention.output.dense.bias\n",
      "This layer will be frozen: bert.encoder.layer.7.attention.output.LayerNorm.weight\n",
      "This layer will be frozen: bert.encoder.layer.7.attention.output.LayerNorm.bias\n",
      "This layer will be frozen: bert.encoder.layer.7.intermediate.dense.weight\n",
      "This layer will be frozen: bert.encoder.layer.7.intermediate.dense.bias\n",
      "This layer will be frozen: bert.encoder.layer.7.output.dense.weight\n",
      "This layer will be frozen: bert.encoder.layer.7.output.dense.bias\n",
      "This layer will be frozen: bert.encoder.layer.7.output.LayerNorm.weight\n",
      "This layer will be frozen: bert.encoder.layer.7.output.LayerNorm.bias\n",
      "This layer will be frozen: bert.encoder.layer.8.attention.self.query.weight\n",
      "This layer will be frozen: bert.encoder.layer.8.attention.self.query.bias\n",
      "This layer will be frozen: bert.encoder.layer.8.attention.self.key.weight\n",
      "This layer will be frozen: bert.encoder.layer.8.attention.self.key.bias\n",
      "This layer will be frozen: bert.encoder.layer.8.attention.self.value.weight\n",
      "This layer will be frozen: bert.encoder.layer.8.attention.self.value.bias\n",
      "This layer will be frozen: bert.encoder.layer.8.attention.output.dense.weight\n",
      "This layer will be frozen: bert.encoder.layer.8.attention.output.dense.bias\n",
      "This layer will be frozen: bert.encoder.layer.8.attention.output.LayerNorm.weight\n",
      "This layer will be frozen: bert.encoder.layer.8.attention.output.LayerNorm.bias\n",
      "This layer will be frozen: bert.encoder.layer.8.intermediate.dense.weight\n",
      "This layer will be frozen: bert.encoder.layer.8.intermediate.dense.bias\n",
      "This layer will be frozen: bert.encoder.layer.8.output.dense.weight\n",
      "This layer will be frozen: bert.encoder.layer.8.output.dense.bias\n",
      "This layer will be frozen: bert.encoder.layer.8.output.LayerNorm.weight\n",
      "This layer will be frozen: bert.encoder.layer.8.output.LayerNorm.bias\n",
      "This layer will be frozen: bert.encoder.layer.9.attention.self.query.weight\n",
      "This layer will be frozen: bert.encoder.layer.9.attention.self.query.bias\n",
      "This layer will be frozen: bert.encoder.layer.9.attention.self.key.weight\n",
      "This layer will be frozen: bert.encoder.layer.9.attention.self.key.bias\n",
      "This layer will be frozen: bert.encoder.layer.9.attention.self.value.weight\n",
      "This layer will be frozen: bert.encoder.layer.9.attention.self.value.bias\n",
      "This layer will be frozen: bert.encoder.layer.9.attention.output.dense.weight\n",
      "This layer will be frozen: bert.encoder.layer.9.attention.output.dense.bias\n",
      "This layer will be frozen: bert.encoder.layer.9.attention.output.LayerNorm.weight\n",
      "This layer will be frozen: bert.encoder.layer.9.attention.output.LayerNorm.bias\n",
      "This layer will be frozen: bert.encoder.layer.9.intermediate.dense.weight\n",
      "This layer will be frozen: bert.encoder.layer.9.intermediate.dense.bias\n",
      "This layer will be frozen: bert.encoder.layer.9.output.dense.weight\n",
      "This layer will be frozen: bert.encoder.layer.9.output.dense.bias\n",
      "This layer will be frozen: bert.encoder.layer.9.output.LayerNorm.weight\n",
      "This layer will be frozen: bert.encoder.layer.9.output.LayerNorm.bias\n"
     ]
    },
    {
     "name": "stderr",
     "output_type": "stream",
     "text": [
      "Failed to detect the name of this notebook, you can set it manually with the WANDB_NOTEBOOK_NAME environment variable to enable code saving.\n",
      "\u001B[34m\u001B[1mwandb\u001B[0m: Currently logged in as: \u001B[33madrianurbanski\u001B[0m (\u001B[33mmma\u001B[0m). Use \u001B[1m`wandb login --relogin`\u001B[0m to force relogin\n",
      "\u001B[34m\u001B[1mwandb\u001B[0m: \u001B[33mWARNING\u001B[0m Path /pio/scratch/1/i308362/TheGreatKnowledgeHeist/out/logs/wandb/ wasn't writable, using system temp directory.\n",
      "wandb: WARNING Path /pio/scratch/1/i308362/TheGreatKnowledgeHeist/out/logs/wandb/ wasn't writable, using system temp directory\n"
     ]
    },
    {
     "data": {
      "text/plain": "<IPython.core.display.HTML object>",
      "text/html": "wandb version 0.12.18 is available!  To upgrade, please run:\n $ pip install wandb --upgrade"
     },
     "metadata": {},
     "output_type": "display_data"
    },
    {
     "data": {
      "text/plain": "<IPython.core.display.HTML object>",
      "text/html": "Tracking run with wandb version 0.12.17"
     },
     "metadata": {},
     "output_type": "display_data"
    },
    {
     "data": {
      "text/plain": "<IPython.core.display.HTML object>",
      "text/html": "Run data is saved locally in <code>/tmp/wandb/run-20220612_123313-27mzs9wr</code>"
     },
     "metadata": {},
     "output_type": "display_data"
    },
    {
     "data": {
      "text/plain": "<IPython.core.display.HTML object>",
      "text/html": "Syncing run <strong><a href=\"https://wandb.ai/mma/Experiments/runs/27mzs9wr\" target=\"_blank\">super-haze-18</a></strong> to <a href=\"https://wandb.ai/mma/Experiments\" target=\"_blank\">Weights & Biases</a> (<a href=\"https://wandb.me/run\" target=\"_blank\">docs</a>)<br/>"
     },
     "metadata": {},
     "output_type": "display_data"
    },
    {
     "name": "stderr",
     "output_type": "stream",
     "text": [
      "GPU available: False, used: False\n",
      "TPU available: False, using: 0 TPU cores\n",
      "IPU available: False, using: 0 IPUs\n",
      "HPU available: False, using: 0 HPUs\n",
      "/pio/scratch/1/i308362/miniconda3/envs/knowledge_heist/lib/python3.9/site-packages/pytorch_lightning/callbacks/model_checkpoint.py:611: UserWarning: Checkpoint directory /pio/scratch/1/i308362/TheGreatKnowledgeHeist/out/model_checkpoints exists and is not empty.\n",
      "  rank_zero_warn(f\"Checkpoint directory {dirpath} exists and is not empty.\")\n",
      "\n",
      "  | Name  | Type                  | Params\n",
      "------------------------------------------------\n",
      "0 | model | BertForMultipleChoice | 109 M \n",
      "1 | f1    | F1Score               | 0     \n",
      "------------------------------------------------\n",
      "14.8 M    Trainable params\n",
      "94.7 M    Non-trainable params\n",
      "109 M     Total params\n",
      "437.932   Total estimated model params size (MB)\n"
     ]
    },
    {
     "data": {
      "text/plain": "Sanity Checking: 0it [00:00, ?it/s]",
      "application/vnd.jupyter.widget-view+json": {
       "version_major": 2,
       "version_minor": 0,
       "model_id": "a8f3da494fc14bc480a3bcdea3520c23"
      }
     },
     "metadata": {},
     "output_type": "display_data"
    },
    {
     "name": "stderr",
     "output_type": "stream",
     "text": [
      "/pio/scratch/1/i308362/miniconda3/envs/knowledge_heist/lib/python3.9/site-packages/pytorch_lightning/trainer/trainer.py:1927: PossibleUserWarning: The number of training batches (1) is smaller than the logging interval Trainer(log_every_n_steps=50). Set a lower value for log_every_n_steps if you want to see logs for the training epoch.\n",
      "  rank_zero_warn(\n"
     ]
    },
    {
     "data": {
      "text/plain": "Training: 0it [00:00, ?it/s]",
      "application/vnd.jupyter.widget-view+json": {
       "version_major": 2,
       "version_minor": 0,
       "model_id": "feb578a2125e42a3a0cc0d651d429376"
      }
     },
     "metadata": {},
     "output_type": "display_data"
    },
    {
     "data": {
      "text/plain": "Validation: 0it [00:00, ?it/s]",
      "application/vnd.jupyter.widget-view+json": {
       "version_major": 2,
       "version_minor": 0,
       "model_id": "7c2fc650cab84233ad92f7bf43cc5142"
      }
     },
     "metadata": {},
     "output_type": "display_data"
    },
    {
     "data": {
      "text/plain": "<IPython.core.display.HTML object>",
      "text/html": "Waiting for W&B process to finish... <strong style=\"color:green\">(success).</strong>"
     },
     "metadata": {},
     "output_type": "display_data"
    },
    {
     "data": {
      "text/plain": "VBox(children=(Label(value='0.000 MB of 0.000 MB uploaded (0.000 MB deduped)\\r'), FloatProgress(value=1.0, max…",
      "application/vnd.jupyter.widget-view+json": {
       "version_major": 2,
       "version_minor": 0,
       "model_id": "290e8900f20c4b9cbdb3d16be236cea6"
      }
     },
     "metadata": {},
     "output_type": "display_data"
    },
    {
     "data": {
      "text/plain": "<IPython.core.display.HTML object>",
      "text/html": "<style>\n    table.wandb td:nth-child(1) { padding: 0 10px; text-align: left ; width: auto;} td:nth-child(2) {text-align: left ; width: 100%}\n    .wandb-row { display: flex; flex-direction: row; flex-wrap: wrap; justify-content: flex-start; width: 100% }\n    .wandb-col { display: flex; flex-direction: column; flex-basis: 100%; flex: 1; padding: 10px; }\n    </style>\n<div class=\"wandb-row\"><div class=\"wandb-col\"><h3>Run history:</h3><br/><table class=\"wandb\"><tr><td>epoch</td><td>▁</td></tr><tr><td>trainer/global_step</td><td>▁</td></tr><tr><td>val_accuracy</td><td>▁</td></tr><tr><td>val_f1</td><td>▁</td></tr><tr><td>val_loss</td><td>▁</td></tr></table><br/></div><div class=\"wandb-col\"><h3>Run summary:</h3><br/><table class=\"wandb\"><tr><td>epoch</td><td>0</td></tr><tr><td>trainer/global_step</td><td>0</td></tr><tr><td>val_accuracy</td><td>0.4</td></tr><tr><td>val_f1</td><td>0.26667</td></tr><tr><td>val_loss</td><td>1.39359</td></tr></table><br/></div></div>"
     },
     "metadata": {},
     "output_type": "display_data"
    },
    {
     "data": {
      "text/plain": "<IPython.core.display.HTML object>",
      "text/html": "Synced <strong style=\"color:#cdcd00\">super-haze-18</strong>: <a href=\"https://wandb.ai/mma/Experiments/runs/27mzs9wr\" target=\"_blank\">https://wandb.ai/mma/Experiments/runs/27mzs9wr</a><br/>Synced 6 W&B file(s), 0 media file(s), 0 artifact file(s) and 0 other file(s)"
     },
     "metadata": {},
     "output_type": "display_data"
    },
    {
     "data": {
      "text/plain": "<IPython.core.display.HTML object>",
      "text/html": "Find logs at: <code>/tmp/wandb/run-20220612_123313-27mzs9wr/logs</code>"
     },
     "metadata": {},
     "output_type": "display_data"
    }
   ],
   "source": [
    "config = load_yaml(config_path)\n",
    "dataloaders = get_dataloaders(\n",
    "    dataset_name=config[\"task\"],\n",
    "    path_to_dataset=f\"{config['dataset_path']}/{config['task']}\",\n",
    "    batch_size=config[\"batch_size\"],\n",
    "    num_workers=config[\"num_workers\"],\n",
    ")\n",
    "\n",
    "factory = BertFactory()\n",
    "\n",
    "bert_config = BertConfig(\n",
    "    output_hidden_states=True\n",
    ")\n",
    "model = factory.create_model(config[\"task\"], config=config, bert_config=bert_config)\n",
    "train_model(model, dataloaders, config)\n"
   ],
   "metadata": {
    "collapsed": false,
    "pycharm": {
     "name": "#%%\n"
    }
   }
  },
  {
   "cell_type": "code",
   "execution_count": 5,
   "outputs": [
    {
     "name": "stdout",
     "output_type": "stream",
     "text": [
      "This layer will be frozen: bert.embeddings.word_embeddings.weight\n",
      "This layer will be frozen: bert.embeddings.position_embeddings.weight\n",
      "This layer will be frozen: bert.embeddings.token_type_embeddings.weight\n",
      "This layer will be frozen: bert.embeddings.LayerNorm.weight\n",
      "This layer will be frozen: bert.embeddings.LayerNorm.bias\n",
      "This layer will be frozen: bert.encoder.layer.0.attention.self.query.weight\n",
      "This layer will be frozen: bert.encoder.layer.0.attention.self.query.bias\n",
      "This layer will be frozen: bert.encoder.layer.0.attention.self.key.weight\n",
      "This layer will be frozen: bert.encoder.layer.0.attention.self.key.bias\n",
      "This layer will be frozen: bert.encoder.layer.0.attention.self.value.weight\n",
      "This layer will be frozen: bert.encoder.layer.0.attention.self.value.bias\n",
      "This layer will be frozen: bert.encoder.layer.0.attention.output.dense.weight\n",
      "This layer will be frozen: bert.encoder.layer.0.attention.output.dense.bias\n",
      "This layer will be frozen: bert.encoder.layer.0.attention.output.LayerNorm.weight\n",
      "This layer will be frozen: bert.encoder.layer.0.attention.output.LayerNorm.bias\n",
      "This layer will be frozen: bert.encoder.layer.0.intermediate.dense.weight\n",
      "This layer will be frozen: bert.encoder.layer.0.intermediate.dense.bias\n",
      "This layer will be frozen: bert.encoder.layer.0.output.dense.weight\n",
      "This layer will be frozen: bert.encoder.layer.0.output.dense.bias\n",
      "This layer will be frozen: bert.encoder.layer.0.output.LayerNorm.weight\n",
      "This layer will be frozen: bert.encoder.layer.0.output.LayerNorm.bias\n",
      "This layer will be frozen: bert.encoder.layer.1.attention.self.query.weight\n",
      "This layer will be frozen: bert.encoder.layer.1.attention.self.query.bias\n",
      "This layer will be frozen: bert.encoder.layer.1.attention.self.key.weight\n",
      "This layer will be frozen: bert.encoder.layer.1.attention.self.key.bias\n",
      "This layer will be frozen: bert.encoder.layer.1.attention.self.value.weight\n",
      "This layer will be frozen: bert.encoder.layer.1.attention.self.value.bias\n",
      "This layer will be frozen: bert.encoder.layer.1.attention.output.dense.weight\n",
      "This layer will be frozen: bert.encoder.layer.1.attention.output.dense.bias\n",
      "This layer will be frozen: bert.encoder.layer.1.attention.output.LayerNorm.weight\n",
      "This layer will be frozen: bert.encoder.layer.1.attention.output.LayerNorm.bias\n",
      "This layer will be frozen: bert.encoder.layer.1.intermediate.dense.weight\n",
      "This layer will be frozen: bert.encoder.layer.1.intermediate.dense.bias\n",
      "This layer will be frozen: bert.encoder.layer.1.output.dense.weight\n",
      "This layer will be frozen: bert.encoder.layer.1.output.dense.bias\n",
      "This layer will be frozen: bert.encoder.layer.1.output.LayerNorm.weight\n",
      "This layer will be frozen: bert.encoder.layer.1.output.LayerNorm.bias\n",
      "This layer will be frozen: bert.encoder.layer.2.attention.self.query.weight\n",
      "This layer will be frozen: bert.encoder.layer.2.attention.self.query.bias\n",
      "This layer will be frozen: bert.encoder.layer.2.attention.self.key.weight\n",
      "This layer will be frozen: bert.encoder.layer.2.attention.self.key.bias\n",
      "This layer will be frozen: bert.encoder.layer.2.attention.self.value.weight\n",
      "This layer will be frozen: bert.encoder.layer.2.attention.self.value.bias\n",
      "This layer will be frozen: bert.encoder.layer.2.attention.output.dense.weight\n",
      "This layer will be frozen: bert.encoder.layer.2.attention.output.dense.bias\n",
      "This layer will be frozen: bert.encoder.layer.2.attention.output.LayerNorm.weight\n",
      "This layer will be frozen: bert.encoder.layer.2.attention.output.LayerNorm.bias\n",
      "This layer will be frozen: bert.encoder.layer.2.intermediate.dense.weight\n",
      "This layer will be frozen: bert.encoder.layer.2.intermediate.dense.bias\n",
      "This layer will be frozen: bert.encoder.layer.2.output.dense.weight\n",
      "This layer will be frozen: bert.encoder.layer.2.output.dense.bias\n",
      "This layer will be frozen: bert.encoder.layer.2.output.LayerNorm.weight\n",
      "This layer will be frozen: bert.encoder.layer.2.output.LayerNorm.bias\n",
      "This layer will be frozen: bert.encoder.layer.3.attention.self.query.weight\n",
      "This layer will be frozen: bert.encoder.layer.3.attention.self.query.bias\n",
      "This layer will be frozen: bert.encoder.layer.3.attention.self.key.weight\n",
      "This layer will be frozen: bert.encoder.layer.3.attention.self.key.bias\n",
      "This layer will be frozen: bert.encoder.layer.3.attention.self.value.weight\n",
      "This layer will be frozen: bert.encoder.layer.3.attention.self.value.bias\n",
      "This layer will be frozen: bert.encoder.layer.3.attention.output.dense.weight\n",
      "This layer will be frozen: bert.encoder.layer.3.attention.output.dense.bias\n",
      "This layer will be frozen: bert.encoder.layer.3.attention.output.LayerNorm.weight\n",
      "This layer will be frozen: bert.encoder.layer.3.attention.output.LayerNorm.bias\n",
      "This layer will be frozen: bert.encoder.layer.3.intermediate.dense.weight\n",
      "This layer will be frozen: bert.encoder.layer.3.intermediate.dense.bias\n",
      "This layer will be frozen: bert.encoder.layer.3.output.dense.weight\n",
      "This layer will be frozen: bert.encoder.layer.3.output.dense.bias\n",
      "This layer will be frozen: bert.encoder.layer.3.output.LayerNorm.weight\n",
      "This layer will be frozen: bert.encoder.layer.3.output.LayerNorm.bias\n",
      "This layer will be frozen: bert.encoder.layer.4.attention.self.query.weight\n",
      "This layer will be frozen: bert.encoder.layer.4.attention.self.query.bias\n",
      "This layer will be frozen: bert.encoder.layer.4.attention.self.key.weight\n",
      "This layer will be frozen: bert.encoder.layer.4.attention.self.key.bias\n",
      "This layer will be frozen: bert.encoder.layer.4.attention.self.value.weight\n",
      "This layer will be frozen: bert.encoder.layer.4.attention.self.value.bias\n",
      "This layer will be frozen: bert.encoder.layer.4.attention.output.dense.weight\n",
      "This layer will be frozen: bert.encoder.layer.4.attention.output.dense.bias\n",
      "This layer will be frozen: bert.encoder.layer.4.attention.output.LayerNorm.weight\n",
      "This layer will be frozen: bert.encoder.layer.4.attention.output.LayerNorm.bias\n",
      "This layer will be frozen: bert.encoder.layer.4.intermediate.dense.weight\n",
      "This layer will be frozen: bert.encoder.layer.4.intermediate.dense.bias\n",
      "This layer will be frozen: bert.encoder.layer.4.output.dense.weight\n",
      "This layer will be frozen: bert.encoder.layer.4.output.dense.bias\n",
      "This layer will be frozen: bert.encoder.layer.4.output.LayerNorm.weight\n",
      "This layer will be frozen: bert.encoder.layer.4.output.LayerNorm.bias\n",
      "This layer will be frozen: bert.encoder.layer.5.attention.self.query.weight\n",
      "This layer will be frozen: bert.encoder.layer.5.attention.self.query.bias\n",
      "This layer will be frozen: bert.encoder.layer.5.attention.self.key.weight\n",
      "This layer will be frozen: bert.encoder.layer.5.attention.self.key.bias\n",
      "This layer will be frozen: bert.encoder.layer.5.attention.self.value.weight\n",
      "This layer will be frozen: bert.encoder.layer.5.attention.self.value.bias\n",
      "This layer will be frozen: bert.encoder.layer.5.attention.output.dense.weight\n",
      "This layer will be frozen: bert.encoder.layer.5.attention.output.dense.bias\n",
      "This layer will be frozen: bert.encoder.layer.5.attention.output.LayerNorm.weight\n",
      "This layer will be frozen: bert.encoder.layer.5.attention.output.LayerNorm.bias\n",
      "This layer will be frozen: bert.encoder.layer.5.intermediate.dense.weight\n",
      "This layer will be frozen: bert.encoder.layer.5.intermediate.dense.bias\n",
      "This layer will be frozen: bert.encoder.layer.5.output.dense.weight\n",
      "This layer will be frozen: bert.encoder.layer.5.output.dense.bias\n",
      "This layer will be frozen: bert.encoder.layer.5.output.LayerNorm.weight\n",
      "This layer will be frozen: bert.encoder.layer.5.output.LayerNorm.bias\n",
      "This layer will be frozen: bert.pooler.dense.weight\n",
      "This layer will be frozen: bert.pooler.dense.bias\n",
      "This layer will be frozen: classifier.weight\n",
      "This layer will be frozen: classifier.bias\n"
     ]
    }
   ],
   "source": [
    "bert_config = BertConfig(\n",
    "    num_hidden_layers=6,\n",
    "    num_attention_heads=6,\n",
    "    output_hidden_states=True,\n",
    ")\n",
    "small_model = factory.create_model(config[\"task\"], config=config, pretrained=False, bert_config=bert_config)"
   ],
   "metadata": {
    "collapsed": false,
    "pycharm": {
     "name": "#%%\n"
    }
   }
  },
  {
   "cell_type": "code",
   "execution_count": 6,
   "outputs": [],
   "source": [
    "from abc import ABC, abstractmethod\n",
    "from torch.optim import Adam\n",
    "\n",
    "class BaseKD(pl.LightningModule, ABC):\n",
    "    def __init__(self, config, teacher_model: BaseBert, student_model: BaseBert):\n",
    "        super().__init__()\n",
    "        self.lr = config[\"lr\"]\n",
    "        self.eps = config[\"eps\"]\n",
    "\n",
    "        self.teacher = teacher_model\n",
    "        self.teacher.freeze()\n",
    "        self.student = student_model\n",
    "        self.student.unfreeze()\n",
    "\n",
    "    @abstractmethod\n",
    "    def logits_loss(self, student_logits, teacher_logits):\n",
    "        pass\n",
    "\n",
    "    @abstractmethod\n",
    "    def layers_loss(self, student_layers, teacher_layers):\n",
    "        pass\n",
    "\n",
    "    def configure_optimizers(self):\n",
    "        optimizer = Adam(self.student.parameters(), lr=self.lr, eps=self.eps)\n",
    "        return optimizer\n",
    "\n",
    "    def forward(self, **inputs):\n",
    "        student_outputs = self.student(**inputs)\n",
    "        teacher_outputs = self.teacher(**inputs)\n",
    "        return student_outputs, teacher_outputs\n",
    "\n",
    "    def training_step(self, batch, batch_idx):\n",
    "        student_outputs, teacher_outputs = self(**batch)\n",
    "        accuracy = self.student.calculate_accuracy(student_outputs['logits'], batch[\"labels\"])\n",
    "        loss = (\n",
    "                student_outputs['loss']\n",
    "                + self.logits_loss(student_outputs['logits'], teacher_outputs['logits'])\n",
    "                + self.layers_loss(student_outputs['hidden_states'], teacher_outputs['hidden_states'])\n",
    "        )\n",
    "        self.log(\"train_loss\", loss)\n",
    "        self.log(\"train_accuracy\", accuracy)\n",
    "        return loss\n",
    "\n",
    "    def validation_step(self, batch, batch_idx):\n",
    "        student_outputs, teacher_outputs = self(**batch)\n",
    "        accuracy = self.student.calculate_accuracy(student_outputs['logits'], batch[\"labels\"])\n",
    "        loss = (\n",
    "                student_outputs['loss']\n",
    "                + self.logits_loss(student_outputs['logits'], teacher_outputs['logits'])\n",
    "                + self.layers_loss(student_outputs['hidden_states'], teacher_outputs['hidden_states'])\n",
    "        )\n",
    "        self.log(\"val_loss\", loss)\n",
    "        self.log(\"val_accuracy\", accuracy)\n",
    "        return loss"
   ],
   "metadata": {
    "collapsed": false,
    "pycharm": {
     "name": "#%%\n"
    }
   }
  },
  {
   "cell_type": "code",
   "execution_count": 7,
   "outputs": [],
   "source": [
    "from torch.nn.functional import softmax, kl_div\n",
    "\n",
    "class LogitsKD(BaseKD):\n",
    "    def __init__(self, config, teacher_model: BaseBert, student_model: BaseBert, temperature: float = 1):\n",
    "        super().__init__(config, teacher_model, student_model)\n",
    "\n",
    "        self._T = temperature\n",
    "\n",
    "    def logits_loss(self, student_logits, teacher_logits):\n",
    "        return kl_div(\n",
    "            softmax(student_logits / self._T, dim=1),\n",
    "            softmax(teacher_logits / self._T, dim=1),\n",
    "            reduction='batchmean'\n",
    "        )\n",
    "\n",
    "    def layers_loss(self, student_layers, teacher_layers):\n",
    "        return 0"
   ],
   "metadata": {
    "collapsed": false,
    "pycharm": {
     "name": "#%%\n"
    }
   }
  },
  {
   "cell_type": "code",
   "execution_count": 8,
   "outputs": [],
   "source": [
    "distilled_model = LogitsKD(config, model, small_model)"
   ],
   "metadata": {
    "collapsed": false,
    "pycharm": {
     "name": "#%%\n"
    }
   }
  },
  {
   "cell_type": "code",
   "execution_count": 9,
   "outputs": [
    {
     "data": {
      "text/plain": "<IPython.core.display.HTML object>",
      "text/html": "wandb version 0.12.18 is available!  To upgrade, please run:\n $ pip install wandb --upgrade"
     },
     "metadata": {},
     "output_type": "display_data"
    },
    {
     "data": {
      "text/plain": "<IPython.core.display.HTML object>",
      "text/html": "Tracking run with wandb version 0.12.17"
     },
     "metadata": {},
     "output_type": "display_data"
    },
    {
     "data": {
      "text/plain": "<IPython.core.display.HTML object>",
      "text/html": "Run data is saved locally in <code>/tmp/wandb/run-20220612_123340-38qg9ahh</code>"
     },
     "metadata": {},
     "output_type": "display_data"
    },
    {
     "data": {
      "text/plain": "<IPython.core.display.HTML object>",
      "text/html": "Syncing run <strong><a href=\"https://wandb.ai/mma/Experiments/runs/38qg9ahh\" target=\"_blank\">lively-frog-19</a></strong> to <a href=\"https://wandb.ai/mma/Experiments\" target=\"_blank\">Weights & Biases</a> (<a href=\"https://wandb.me/run\" target=\"_blank\">docs</a>)<br/>"
     },
     "metadata": {},
     "output_type": "display_data"
    },
    {
     "name": "stderr",
     "output_type": "stream",
     "text": [
      "GPU available: False, used: False\n",
      "TPU available: False, using: 0 TPU cores\n",
      "IPU available: False, using: 0 IPUs\n",
      "HPU available: False, using: 0 HPUs\n",
      "\n",
      "  | Name    | Type     | Params\n",
      "-------------------------------------\n",
      "0 | teacher | SwagBert | 109 M \n",
      "1 | student | SwagBert | 67.0 M\n",
      "-------------------------------------\n",
      "67.0 M    Trainable params\n",
      "109 M     Non-trainable params\n",
      "176 M     Total params\n",
      "705.755   Total estimated model params size (MB)\n"
     ]
    },
    {
     "data": {
      "text/plain": "Sanity Checking: 0it [00:00, ?it/s]",
      "application/vnd.jupyter.widget-view+json": {
       "version_major": 2,
       "version_minor": 0,
       "model_id": "69cdb237314c4e9ab1d174ff078b7dba"
      }
     },
     "metadata": {},
     "output_type": "display_data"
    },
    {
     "data": {
      "text/plain": "Training: 0it [00:00, ?it/s]",
      "application/vnd.jupyter.widget-view+json": {
       "version_major": 2,
       "version_minor": 0,
       "model_id": "e10f12fe4dff45dba066ddfb26ff22fe"
      }
     },
     "metadata": {},
     "output_type": "display_data"
    },
    {
     "data": {
      "text/plain": "Validation: 0it [00:00, ?it/s]",
      "application/vnd.jupyter.widget-view+json": {
       "version_major": 2,
       "version_minor": 0,
       "model_id": "835124df43934190a1ef96fcbf8bf61d"
      }
     },
     "metadata": {},
     "output_type": "display_data"
    },
    {
     "data": {
      "text/plain": "<IPython.core.display.HTML object>",
      "text/html": "Waiting for W&B process to finish... <strong style=\"color:green\">(success).</strong>"
     },
     "metadata": {},
     "output_type": "display_data"
    },
    {
     "data": {
      "text/plain": "VBox(children=(Label(value='0.000 MB of 0.000 MB uploaded (0.000 MB deduped)\\r'), FloatProgress(value=1.0, max…",
      "application/vnd.jupyter.widget-view+json": {
       "version_major": 2,
       "version_minor": 0,
       "model_id": "f78a08b3a894495790d6154b24ab24b5"
      }
     },
     "metadata": {},
     "output_type": "display_data"
    },
    {
     "data": {
      "text/plain": "<IPython.core.display.HTML object>",
      "text/html": "<style>\n    table.wandb td:nth-child(1) { padding: 0 10px; text-align: left ; width: auto;} td:nth-child(2) {text-align: left ; width: 100%}\n    .wandb-row { display: flex; flex-direction: row; flex-wrap: wrap; justify-content: flex-start; width: 100% }\n    .wandb-col { display: flex; flex-direction: column; flex-basis: 100%; flex: 1; padding: 10px; }\n    </style>\n<div class=\"wandb-row\"><div class=\"wandb-col\"><h3>Run history:</h3><br/><table class=\"wandb\"><tr><td>epoch</td><td>▁</td></tr><tr><td>trainer/global_step</td><td>▁</td></tr><tr><td>val_accuracy</td><td>▁</td></tr><tr><td>val_loss</td><td>▁</td></tr></table><br/></div><div class=\"wandb-col\"><h3>Run summary:</h3><br/><table class=\"wandb\"><tr><td>epoch</td><td>0</td></tr><tr><td>trainer/global_step</td><td>0</td></tr><tr><td>val_accuracy</td><td>0.4</td></tr><tr><td>val_loss</td><td>-0.24831</td></tr></table><br/></div></div>"
     },
     "metadata": {},
     "output_type": "display_data"
    },
    {
     "data": {
      "text/plain": "<IPython.core.display.HTML object>",
      "text/html": "Synced <strong style=\"color:#cdcd00\">lively-frog-19</strong>: <a href=\"https://wandb.ai/mma/Experiments/runs/38qg9ahh\" target=\"_blank\">https://wandb.ai/mma/Experiments/runs/38qg9ahh</a><br/>Synced 6 W&B file(s), 0 media file(s), 0 artifact file(s) and 0 other file(s)"
     },
     "metadata": {},
     "output_type": "display_data"
    },
    {
     "data": {
      "text/plain": "<IPython.core.display.HTML object>",
      "text/html": "Find logs at: <code>/tmp/wandb/run-20220612_123340-38qg9ahh/logs</code>"
     },
     "metadata": {},
     "output_type": "display_data"
    }
   ],
   "source": [
    "train_model(distilled_model, dataloaders, config)"
   ],
   "metadata": {
    "collapsed": false,
    "pycharm": {
     "name": "#%%\n"
    }
   }
  },
  {
   "cell_type": "code",
   "execution_count": null,
   "outputs": [],
   "source": [],
   "metadata": {
    "collapsed": false,
    "pycharm": {
     "name": "#%%\n"
    }
   }
  }
 ],
 "metadata": {
  "kernelspec": {
   "display_name": "Python 3",
   "language": "python",
   "name": "python3"
  },
  "language_info": {
   "codemirror_mode": {
    "name": "ipython",
    "version": 2
   },
   "file_extension": ".py",
   "mimetype": "text/x-python",
   "name": "python",
   "nbconvert_exporter": "python",
   "pygments_lexer": "ipython2",
   "version": "2.7.6"
  }
 },
 "nbformat": 4,
 "nbformat_minor": 0
}