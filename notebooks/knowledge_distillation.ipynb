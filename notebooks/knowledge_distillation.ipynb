{
 "cells": [
  {
   "cell_type": "code",
   "execution_count": 17,
   "outputs": [],
   "source": [
    "import pytorch_lightning as pl\n",
    "import torch\n",
    "import wandb\n",
    "from pytorch_lightning import Trainer\n",
    "from pytorch_lightning.loggers import WandbLogger\n",
    "from torch import nn\n",
    "from torch.optim import Adam\n",
    "from transformers import BertConfig\n",
    "\n",
    "from thegreatknowledgeheist.data import get_dataloaders\n",
    "from thegreatknowledgeheist.io import load_yaml\n",
    "from thegreatknowledgeheist.models import BertFactory"
   ],
   "metadata": {
    "collapsed": false,
    "pycharm": {
     "name": "#%%\n"
    }
   }
  },
  {
   "cell_type": "code",
   "execution_count": 18,
   "outputs": [],
   "source": [
    "def train_model(model, dataloaders, config):\n",
    "\n",
    "    # checkpoint_callback = pl.callbacks.ModelCheckpoint(\n",
    "    #     monitor=\"val_loss\",\n",
    "    #     dirpath=f\"{config['outputs_path']}/model_checkpoints\",\n",
    "    #     filename=config[\"task\"] + \"-model-{epoch:02d}-{val_loss:.2f}\",\n",
    "    #     save_top_k=1,\n",
    "    #     mode=\"min\",\n",
    "    # )\n",
    "\n",
    "    trainer = Trainer(\n",
    "        logger=WandbLogger(\n",
    "            save_dir=f\"{config['outputs_path']}/logs\",\n",
    "            project=\"experiments\",\n",
    "            entity=\"mma\",\n",
    "        ),\n",
    "        gpus=config[\"gpus\"],\n",
    "        max_epochs=config[\"max_epochs\"],\n",
    "        # callbacks=[checkpoint_callback],\n",
    "    )\n",
    "\n",
    "    trainer.fit(model, dataloaders[\"train\"], dataloaders[\"val\"])\n",
    "    wandb.finish()"
   ],
   "metadata": {
    "collapsed": false,
    "pycharm": {
     "name": "#%%\n"
    }
   }
  },
  {
   "cell_type": "code",
   "execution_count": 19,
   "outputs": [],
   "source": [
    "config_path = '/home/maria/Documents/TheGreatKnowledgeHeist/configs/train_config.yaml'"
   ],
   "metadata": {
    "collapsed": false,
    "pycharm": {
     "name": "#%%\n"
    }
   }
  },
  {
   "cell_type": "code",
   "execution_count": 20,
   "outputs": [],
   "source": [
    "config = load_yaml(config_path)\n",
    "dataloaders = get_dataloaders(\n",
    "    dataset_name=config[\"task\"],\n",
    "    path_to_dataset=f\"{config['dataset_path']}/{config['task']}\",\n",
    "    batch_size=config[\"batch_size\"],\n",
    "    num_workers=config[\"num_workers\"],\n",
    ")"
   ],
   "metadata": {
    "collapsed": false,
    "pycharm": {
     "name": "#%%\n"
    }
   }
  },
  {
   "cell_type": "code",
   "execution_count": 21,
   "outputs": [],
   "source": [
    "from torch.autograd import Variable\n",
    "\n",
    "\n",
    "# https://pytorch-lightning.readthedocs.io/en/stable/notebooks/lightning_examples/basic-gan.html\n",
    "# https://arxiv.org/pdf/1709.00513.pdf\n",
    "\n",
    "class Discriminator(pl.LightningModule):\n",
    "    def __init__(self, config, num_classes):\n",
    "        super().__init__()\n",
    "        self.lr = config[\"lr\"]\n",
    "        self.eps = config[\"eps\"]\n",
    "\n",
    "        self.model = nn.Sequential(\n",
    "            nn.Linear(num_classes, 512),\n",
    "            nn.LeakyReLU(0.2, inplace=True),\n",
    "            nn.Linear(512, 256),\n",
    "            nn.LeakyReLU(0.2, inplace=True),\n",
    "            nn.Linear(256, num_classes + 1),\n",
    "        )\n",
    "\n",
    "    def forward(self, inputs):\n",
    "        return self.model(inputs)\n",
    "\n",
    "    def training_step(self, batch, batch_idx):\n",
    "        pass\n",
    "\n",
    "    def validation_step(self, batch, batch_idx):\n",
    "        pass\n",
    "\n",
    "class AdversarialKD(pl.LightningModule):\n",
    "    def __init__(self, config, teacher_model_path: str, discriminator_model: Discriminator):\n",
    "        super().__init__()\n",
    "        factory = BertFactory()\n",
    "        self.lr = config[\"lr\"]\n",
    "        self.eps = config[\"eps\"]\n",
    "        self.teacher = factory.create_model(config[\"task\"], config=config, checkpoint_path=teacher_model_path)\n",
    "        self.teacher.freeze()\n",
    "        self.student = factory.create_model(config[\"task\"], config=config, bert_config=BertConfig(num_hidden_layers=3, num_attention_heads=2), pretrained=False)\n",
    "        self.discriminator = discriminator_model\n",
    "        self.cross_entropy_loss = nn.CrossEntropyLoss()\n",
    "        self.binary_entropy_loss = nn.BCELoss()\n",
    "\n",
    "        self.student.unfreeze()\n",
    "        self.discriminator.unfreeze()\n",
    "\n",
    "    def configure_optimizers(self):\n",
    "        student_optimizer = Adam(self.student.parameters(), lr=self.lr, eps=self.eps)\n",
    "        # TODO: add config for discriminator\n",
    "        discriminator_optimizer = Adam(self.discriminator.parameters(), lr=self.lr, eps=self.eps)\n",
    "        return [student_optimizer, discriminator_optimizer]\n",
    "\n",
    "    def forward(self, **inputs):\n",
    "        student_outputs = self.student(**inputs)\n",
    "        teacher_outputs = self.teacher(**inputs)\n",
    "        discriminator_student_outputs = self.discriminator(student_outputs[\"logits\"])\n",
    "        discriminator_teacher_outputs = self.discriminator(teacher_outputs[\"logits\"])\n",
    "        return student_outputs, teacher_outputs, discriminator_student_outputs, discriminator_teacher_outputs\n",
    "\n",
    "    def adverserial_loss(self, outputs, targets):\n",
    "        # last logit - true/false; 0 - student, 1 - teacher\n",
    "        # :, : for acronyms?\n",
    "        return self.binary_entropy_loss(nn.Sigmoid()(outputs[:, -1]), targets)\n",
    "\n",
    "    def adverserial_categories_loss(self, outputs, targets):\n",
    "        return self.cross_entropy_loss(nn.Softmax()(outputs[:, :-1]), targets)\n",
    "\n",
    "    def l1_norm(self, outputs, targets):\n",
    "        return torch.norm((outputs * targets), 1, -1).mean()\n",
    "\n",
    "    def discriminator_loss(self, discriminator_student_outputs, discriminator_teacher_outputs, targets):\n",
    "        return 1/2 * (\n",
    "            self.adverserial_loss(discriminator_student_outputs,\n",
    "                                  torch.zeros(discriminator_student_outputs.size()[0]).to(self.device))\n",
    "            + self.adverserial_loss(discriminator_teacher_outputs,\n",
    "                                  torch.ones(discriminator_teacher_outputs.size()[0]).to(self.device))\n",
    "            + self.adverserial_categories_loss(discriminator_student_outputs, targets)\n",
    "            + self.adverserial_categories_loss(discriminator_teacher_outputs, targets)\n",
    "        )\n",
    "\n",
    "    def discriminator_loss_student(self, discriminator_student_outputs, discriminator_teacher_outputs, targets):\n",
    "        return 1/2 * (\n",
    "            self.adverserial_loss(discriminator_student_outputs,\n",
    "                                  torch.zeros(discriminator_student_outputs.size()[0]).to(self.device))\n",
    "            + self.adverserial_loss(discriminator_teacher_outputs,\n",
    "                                  torch.ones(discriminator_teacher_outputs.size()[0]).to(self.device))\n",
    "            - self.adverserial_categories_loss(discriminator_student_outputs, targets)\n",
    "            - self.adverserial_categories_loss(discriminator_teacher_outputs, targets)\n",
    "        )\n",
    "\n",
    "    def student_loss(self, supervised_loss, student_outputs, teacher_outputs, discriminator_student_outputs, discriminator_teacher_outputs, targets):\n",
    "\n",
    "        self.log(\"train_student_supervised\", supervised_loss)\n",
    "        l1_loss = self.l1_norm(student_outputs, teacher_outputs)\n",
    "        discriminator_loss = self.discriminator_loss_student(discriminator_student_outputs, discriminator_teacher_outputs, targets)\n",
    "\n",
    "        return supervised_loss + l1_loss + discriminator_loss\n",
    "\n",
    "    def training_step(self, batch, batch_idx, optimizer_idx):\n",
    "        student_outputs, teacher_outputs, discriminator_student_outputs, discriminator_teacher_outputs = self(**batch)\n",
    "        # train student\n",
    "        if optimizer_idx == 0:\n",
    "\n",
    "            loss = self.student_loss(\n",
    "                student_outputs['loss'],\n",
    "                student_outputs['logits'],\n",
    "                teacher_outputs['logits'],\n",
    "                discriminator_student_outputs,\n",
    "                discriminator_teacher_outputs,\n",
    "                batch['labels']\n",
    "            )\n",
    "            self.log(\"train_student_loss\", loss)\n",
    "        # train discriminator\n",
    "        elif optimizer_idx == 1:\n",
    "\n",
    "            loss = self.discriminator_loss(\n",
    "                discriminator_student_outputs,\n",
    "                discriminator_teacher_outputs,\n",
    "                batch['labels']\n",
    "            )\n",
    "            self.log(\"train_discriminator_loss\", loss)\n",
    "        else:\n",
    "            raise NotImplementedError()\n",
    "\n",
    "        return loss\n",
    "\n",
    "    def validation_step(self, batch, batch_idx):\n",
    "        outputs = self.student(**batch)\n",
    "        loss, logits = outputs[:2]\n",
    "        self.log(\"val_loss\", loss, on_step=False, on_epoch=True)"
   ],
   "metadata": {
    "collapsed": false,
    "pycharm": {
     "name": "#%%\n"
    }
   }
  },
  {
   "cell_type": "code",
   "execution_count": 22,
   "outputs": [
    {
     "name": "stdout",
     "output_type": "stream",
     "text": [
      "This layer will be frozen: bert.embeddings.word_embeddings.weight\n",
      "This layer will be frozen: bert.embeddings.position_embeddings.weight\n",
      "This layer will be frozen: bert.embeddings.token_type_embeddings.weight\n",
      "This layer will be frozen: bert.embeddings.LayerNorm.weight\n",
      "This layer will be frozen: bert.embeddings.LayerNorm.bias\n",
      "This layer will be frozen: bert.encoder.layer.0.attention.self.query.weight\n",
      "This layer will be frozen: bert.encoder.layer.0.attention.self.query.bias\n",
      "This layer will be frozen: bert.encoder.layer.0.attention.self.key.weight\n",
      "This layer will be frozen: bert.encoder.layer.0.attention.self.key.bias\n",
      "This layer will be frozen: bert.encoder.layer.0.attention.self.value.weight\n",
      "This layer will be frozen: bert.encoder.layer.0.attention.self.value.bias\n",
      "This layer will be frozen: bert.encoder.layer.0.attention.output.dense.weight\n",
      "This layer will be frozen: bert.encoder.layer.0.attention.output.dense.bias\n",
      "This layer will be frozen: bert.encoder.layer.0.attention.output.LayerNorm.weight\n",
      "This layer will be frozen: bert.encoder.layer.0.attention.output.LayerNorm.bias\n",
      "This layer will be frozen: bert.encoder.layer.0.intermediate.dense.weight\n",
      "This layer will be frozen: bert.encoder.layer.0.intermediate.dense.bias\n",
      "This layer will be frozen: bert.encoder.layer.0.output.dense.weight\n",
      "This layer will be frozen: bert.encoder.layer.0.output.dense.bias\n",
      "This layer will be frozen: bert.encoder.layer.0.output.LayerNorm.weight\n",
      "This layer will be frozen: bert.encoder.layer.0.output.LayerNorm.bias\n",
      "This layer will be frozen: bert.encoder.layer.1.attention.self.query.weight\n",
      "This layer will be frozen: bert.encoder.layer.1.attention.self.query.bias\n",
      "This layer will be frozen: bert.encoder.layer.1.attention.self.key.weight\n",
      "This layer will be frozen: bert.encoder.layer.1.attention.self.key.bias\n",
      "This layer will be frozen: bert.encoder.layer.1.attention.self.value.weight\n",
      "This layer will be frozen: bert.encoder.layer.1.attention.self.value.bias\n",
      "This layer will be frozen: bert.encoder.layer.1.attention.output.dense.weight\n",
      "This layer will be frozen: bert.encoder.layer.1.attention.output.dense.bias\n",
      "This layer will be frozen: bert.encoder.layer.1.attention.output.LayerNorm.weight\n",
      "This layer will be frozen: bert.encoder.layer.1.attention.output.LayerNorm.bias\n",
      "This layer will be frozen: bert.encoder.layer.1.intermediate.dense.weight\n",
      "This layer will be frozen: bert.encoder.layer.1.intermediate.dense.bias\n",
      "This layer will be frozen: bert.encoder.layer.1.output.dense.weight\n",
      "This layer will be frozen: bert.encoder.layer.1.output.dense.bias\n",
      "This layer will be frozen: bert.encoder.layer.1.output.LayerNorm.weight\n",
      "This layer will be frozen: bert.encoder.layer.1.output.LayerNorm.bias\n",
      "This layer will be frozen: bert.encoder.layer.2.attention.self.query.weight\n",
      "This layer will be frozen: bert.encoder.layer.2.attention.self.query.bias\n",
      "This layer will be frozen: bert.encoder.layer.2.attention.self.key.weight\n",
      "This layer will be frozen: bert.encoder.layer.2.attention.self.key.bias\n",
      "This layer will be frozen: bert.encoder.layer.2.attention.self.value.weight\n",
      "This layer will be frozen: bert.encoder.layer.2.attention.self.value.bias\n",
      "This layer will be frozen: bert.encoder.layer.2.attention.output.dense.weight\n",
      "This layer will be frozen: bert.encoder.layer.2.attention.output.dense.bias\n",
      "This layer will be frozen: bert.encoder.layer.2.attention.output.LayerNorm.weight\n",
      "This layer will be frozen: bert.encoder.layer.2.attention.output.LayerNorm.bias\n",
      "This layer will be frozen: bert.encoder.layer.2.intermediate.dense.weight\n",
      "This layer will be frozen: bert.encoder.layer.2.intermediate.dense.bias\n",
      "This layer will be frozen: bert.encoder.layer.2.output.dense.weight\n",
      "This layer will be frozen: bert.encoder.layer.2.output.dense.bias\n",
      "This layer will be frozen: bert.encoder.layer.2.output.LayerNorm.weight\n",
      "This layer will be frozen: bert.encoder.layer.2.output.LayerNorm.bias\n",
      "This layer will be frozen: bert.encoder.layer.3.attention.self.query.weight\n",
      "This layer will be frozen: bert.encoder.layer.3.attention.self.query.bias\n",
      "This layer will be frozen: bert.encoder.layer.3.attention.self.key.weight\n",
      "This layer will be frozen: bert.encoder.layer.3.attention.self.key.bias\n",
      "This layer will be frozen: bert.encoder.layer.3.attention.self.value.weight\n",
      "This layer will be frozen: bert.encoder.layer.3.attention.self.value.bias\n",
      "This layer will be frozen: bert.encoder.layer.3.attention.output.dense.weight\n",
      "This layer will be frozen: bert.encoder.layer.3.attention.output.dense.bias\n",
      "This layer will be frozen: bert.encoder.layer.3.attention.output.LayerNorm.weight\n",
      "This layer will be frozen: bert.encoder.layer.3.attention.output.LayerNorm.bias\n",
      "This layer will be frozen: bert.encoder.layer.3.intermediate.dense.weight\n",
      "This layer will be frozen: bert.encoder.layer.3.intermediate.dense.bias\n",
      "This layer will be frozen: bert.encoder.layer.3.output.dense.weight\n",
      "This layer will be frozen: bert.encoder.layer.3.output.dense.bias\n",
      "This layer will be frozen: bert.encoder.layer.3.output.LayerNorm.weight\n",
      "This layer will be frozen: bert.encoder.layer.3.output.LayerNorm.bias\n",
      "This layer will be frozen: bert.encoder.layer.4.attention.self.query.weight\n",
      "This layer will be frozen: bert.encoder.layer.4.attention.self.query.bias\n",
      "This layer will be frozen: bert.encoder.layer.4.attention.self.key.weight\n",
      "This layer will be frozen: bert.encoder.layer.4.attention.self.key.bias\n",
      "This layer will be frozen: bert.encoder.layer.4.attention.self.value.weight\n",
      "This layer will be frozen: bert.encoder.layer.4.attention.self.value.bias\n",
      "This layer will be frozen: bert.encoder.layer.4.attention.output.dense.weight\n",
      "This layer will be frozen: bert.encoder.layer.4.attention.output.dense.bias\n",
      "This layer will be frozen: bert.encoder.layer.4.attention.output.LayerNorm.weight\n",
      "This layer will be frozen: bert.encoder.layer.4.attention.output.LayerNorm.bias\n",
      "This layer will be frozen: bert.encoder.layer.4.intermediate.dense.weight\n",
      "This layer will be frozen: bert.encoder.layer.4.intermediate.dense.bias\n",
      "This layer will be frozen: bert.encoder.layer.4.output.dense.weight\n",
      "This layer will be frozen: bert.encoder.layer.4.output.dense.bias\n",
      "This layer will be frozen: bert.encoder.layer.4.output.LayerNorm.weight\n",
      "This layer will be frozen: bert.encoder.layer.4.output.LayerNorm.bias\n",
      "This layer will be frozen: bert.encoder.layer.5.attention.self.query.weight\n",
      "This layer will be frozen: bert.encoder.layer.5.attention.self.query.bias\n",
      "This layer will be frozen: bert.encoder.layer.5.attention.self.key.weight\n",
      "This layer will be frozen: bert.encoder.layer.5.attention.self.key.bias\n",
      "This layer will be frozen: bert.encoder.layer.5.attention.self.value.weight\n",
      "This layer will be frozen: bert.encoder.layer.5.attention.self.value.bias\n",
      "This layer will be frozen: bert.encoder.layer.5.attention.output.dense.weight\n",
      "This layer will be frozen: bert.encoder.layer.5.attention.output.dense.bias\n",
      "This layer will be frozen: bert.encoder.layer.5.attention.output.LayerNorm.weight\n",
      "This layer will be frozen: bert.encoder.layer.5.attention.output.LayerNorm.bias\n",
      "This layer will be frozen: bert.encoder.layer.5.intermediate.dense.weight\n",
      "This layer will be frozen: bert.encoder.layer.5.intermediate.dense.bias\n",
      "This layer will be frozen: bert.encoder.layer.5.output.dense.weight\n",
      "This layer will be frozen: bert.encoder.layer.5.output.dense.bias\n",
      "This layer will be frozen: bert.encoder.layer.5.output.LayerNorm.weight\n",
      "This layer will be frozen: bert.encoder.layer.5.output.LayerNorm.bias\n",
      "This layer will be frozen: bert.encoder.layer.6.attention.self.query.weight\n",
      "This layer will be frozen: bert.encoder.layer.6.attention.self.query.bias\n",
      "This layer will be frozen: bert.encoder.layer.6.attention.self.key.weight\n",
      "This layer will be frozen: bert.encoder.layer.6.attention.self.key.bias\n",
      "This layer will be frozen: bert.encoder.layer.6.attention.self.value.weight\n",
      "This layer will be frozen: bert.encoder.layer.6.attention.self.value.bias\n",
      "This layer will be frozen: bert.encoder.layer.6.attention.output.dense.weight\n",
      "This layer will be frozen: bert.encoder.layer.6.attention.output.dense.bias\n",
      "This layer will be frozen: bert.encoder.layer.6.attention.output.LayerNorm.weight\n",
      "This layer will be frozen: bert.encoder.layer.6.attention.output.LayerNorm.bias\n",
      "This layer will be frozen: bert.encoder.layer.6.intermediate.dense.weight\n",
      "This layer will be frozen: bert.encoder.layer.6.intermediate.dense.bias\n",
      "This layer will be frozen: bert.encoder.layer.6.output.dense.weight\n",
      "This layer will be frozen: bert.encoder.layer.6.output.dense.bias\n",
      "This layer will be frozen: bert.encoder.layer.6.output.LayerNorm.weight\n",
      "This layer will be frozen: bert.encoder.layer.6.output.LayerNorm.bias\n",
      "This layer will be frozen: bert.encoder.layer.7.attention.self.query.weight\n",
      "This layer will be frozen: bert.encoder.layer.7.attention.self.query.bias\n",
      "This layer will be frozen: bert.encoder.layer.7.attention.self.key.weight\n",
      "This layer will be frozen: bert.encoder.layer.7.attention.self.key.bias\n",
      "This layer will be frozen: bert.encoder.layer.7.attention.self.value.weight\n",
      "This layer will be frozen: bert.encoder.layer.7.attention.self.value.bias\n",
      "This layer will be frozen: bert.encoder.layer.7.attention.output.dense.weight\n",
      "This layer will be frozen: bert.encoder.layer.7.attention.output.dense.bias\n",
      "This layer will be frozen: bert.encoder.layer.7.attention.output.LayerNorm.weight\n",
      "This layer will be frozen: bert.encoder.layer.7.attention.output.LayerNorm.bias\n",
      "This layer will be frozen: bert.encoder.layer.7.intermediate.dense.weight\n",
      "This layer will be frozen: bert.encoder.layer.7.intermediate.dense.bias\n",
      "This layer will be frozen: bert.encoder.layer.7.output.dense.weight\n",
      "This layer will be frozen: bert.encoder.layer.7.output.dense.bias\n",
      "This layer will be frozen: bert.encoder.layer.7.output.LayerNorm.weight\n",
      "This layer will be frozen: bert.encoder.layer.7.output.LayerNorm.bias\n",
      "This layer will be frozen: bert.encoder.layer.8.attention.self.query.weight\n",
      "This layer will be frozen: bert.encoder.layer.8.attention.self.query.bias\n",
      "This layer will be frozen: bert.encoder.layer.8.attention.self.key.weight\n",
      "This layer will be frozen: bert.encoder.layer.8.attention.self.key.bias\n",
      "This layer will be frozen: bert.encoder.layer.8.attention.self.value.weight\n",
      "This layer will be frozen: bert.encoder.layer.8.attention.self.value.bias\n",
      "This layer will be frozen: bert.encoder.layer.8.attention.output.dense.weight\n",
      "This layer will be frozen: bert.encoder.layer.8.attention.output.dense.bias\n",
      "This layer will be frozen: bert.encoder.layer.8.attention.output.LayerNorm.weight\n",
      "This layer will be frozen: bert.encoder.layer.8.attention.output.LayerNorm.bias\n",
      "This layer will be frozen: bert.encoder.layer.8.intermediate.dense.weight\n",
      "This layer will be frozen: bert.encoder.layer.8.intermediate.dense.bias\n",
      "This layer will be frozen: bert.encoder.layer.8.output.dense.weight\n",
      "This layer will be frozen: bert.encoder.layer.8.output.dense.bias\n",
      "This layer will be frozen: bert.encoder.layer.8.output.LayerNorm.weight\n",
      "This layer will be frozen: bert.encoder.layer.8.output.LayerNorm.bias\n",
      "This layer will be frozen: bert.encoder.layer.9.attention.self.query.weight\n",
      "This layer will be frozen: bert.encoder.layer.9.attention.self.query.bias\n",
      "This layer will be frozen: bert.encoder.layer.9.attention.self.key.weight\n",
      "This layer will be frozen: bert.encoder.layer.9.attention.self.key.bias\n",
      "This layer will be frozen: bert.encoder.layer.9.attention.self.value.weight\n",
      "This layer will be frozen: bert.encoder.layer.9.attention.self.value.bias\n",
      "This layer will be frozen: bert.encoder.layer.9.attention.output.dense.weight\n",
      "This layer will be frozen: bert.encoder.layer.9.attention.output.dense.bias\n",
      "This layer will be frozen: bert.encoder.layer.9.attention.output.LayerNorm.weight\n",
      "This layer will be frozen: bert.encoder.layer.9.attention.output.LayerNorm.bias\n",
      "This layer will be frozen: bert.encoder.layer.9.intermediate.dense.weight\n",
      "This layer will be frozen: bert.encoder.layer.9.intermediate.dense.bias\n",
      "This layer will be frozen: bert.encoder.layer.9.output.dense.weight\n",
      "This layer will be frozen: bert.encoder.layer.9.output.dense.bias\n",
      "This layer will be frozen: bert.encoder.layer.9.output.LayerNorm.weight\n",
      "This layer will be frozen: bert.encoder.layer.9.output.LayerNorm.bias\n",
      "This layer will be frozen: bert.embeddings.word_embeddings.weight\n",
      "This layer will be frozen: bert.embeddings.position_embeddings.weight\n",
      "This layer will be frozen: bert.embeddings.token_type_embeddings.weight\n",
      "This layer will be frozen: bert.embeddings.LayerNorm.weight\n",
      "This layer will be frozen: bert.embeddings.LayerNorm.bias\n",
      "This layer will be frozen: bert.encoder.layer.0.attention.self.query.weight\n",
      "This layer will be frozen: bert.encoder.layer.0.attention.self.query.bias\n",
      "This layer will be frozen: bert.encoder.layer.0.attention.self.key.weight\n",
      "This layer will be frozen: bert.encoder.layer.0.attention.self.key.bias\n",
      "This layer will be frozen: bert.encoder.layer.0.attention.self.value.weight\n",
      "This layer will be frozen: bert.encoder.layer.0.attention.self.value.bias\n",
      "This layer will be frozen: bert.encoder.layer.0.attention.output.dense.weight\n",
      "This layer will be frozen: bert.encoder.layer.0.attention.output.dense.bias\n",
      "This layer will be frozen: bert.encoder.layer.0.attention.output.LayerNorm.weight\n",
      "This layer will be frozen: bert.encoder.layer.0.attention.output.LayerNorm.bias\n",
      "This layer will be frozen: bert.encoder.layer.0.intermediate.dense.weight\n",
      "This layer will be frozen: bert.encoder.layer.0.intermediate.dense.bias\n",
      "This layer will be frozen: bert.encoder.layer.0.output.dense.weight\n",
      "This layer will be frozen: bert.encoder.layer.0.output.dense.bias\n",
      "This layer will be frozen: bert.encoder.layer.0.output.LayerNorm.weight\n",
      "This layer will be frozen: bert.encoder.layer.0.output.LayerNorm.bias\n",
      "This layer will be frozen: bert.encoder.layer.1.attention.self.query.weight\n",
      "This layer will be frozen: bert.encoder.layer.1.attention.self.query.bias\n",
      "This layer will be frozen: bert.encoder.layer.1.attention.self.key.weight\n",
      "This layer will be frozen: bert.encoder.layer.1.attention.self.key.bias\n",
      "This layer will be frozen: bert.encoder.layer.1.attention.self.value.weight\n",
      "This layer will be frozen: bert.encoder.layer.1.attention.self.value.bias\n",
      "This layer will be frozen: bert.encoder.layer.1.attention.output.dense.weight\n",
      "This layer will be frozen: bert.encoder.layer.1.attention.output.dense.bias\n",
      "This layer will be frozen: bert.encoder.layer.1.attention.output.LayerNorm.weight\n",
      "This layer will be frozen: bert.encoder.layer.1.attention.output.LayerNorm.bias\n",
      "This layer will be frozen: bert.encoder.layer.1.intermediate.dense.weight\n",
      "This layer will be frozen: bert.encoder.layer.1.intermediate.dense.bias\n",
      "This layer will be frozen: bert.encoder.layer.1.output.dense.weight\n",
      "This layer will be frozen: bert.encoder.layer.1.output.dense.bias\n",
      "This layer will be frozen: bert.encoder.layer.1.output.LayerNorm.weight\n",
      "This layer will be frozen: bert.encoder.layer.1.output.LayerNorm.bias\n",
      "This layer will be frozen: bert.encoder.layer.2.attention.self.query.weight\n",
      "This layer will be frozen: bert.encoder.layer.2.attention.self.query.bias\n",
      "This layer will be frozen: bert.encoder.layer.2.attention.self.key.weight\n",
      "This layer will be frozen: bert.encoder.layer.2.attention.self.key.bias\n",
      "This layer will be frozen: bert.encoder.layer.2.attention.self.value.weight\n",
      "This layer will be frozen: bert.encoder.layer.2.attention.self.value.bias\n",
      "This layer will be frozen: bert.encoder.layer.2.attention.output.dense.weight\n",
      "This layer will be frozen: bert.encoder.layer.2.attention.output.dense.bias\n",
      "This layer will be frozen: bert.encoder.layer.2.attention.output.LayerNorm.weight\n",
      "This layer will be frozen: bert.encoder.layer.2.attention.output.LayerNorm.bias\n",
      "This layer will be frozen: bert.encoder.layer.2.intermediate.dense.weight\n",
      "This layer will be frozen: bert.encoder.layer.2.intermediate.dense.bias\n",
      "This layer will be frozen: bert.encoder.layer.2.output.dense.weight\n",
      "This layer will be frozen: bert.encoder.layer.2.output.dense.bias\n",
      "This layer will be frozen: bert.encoder.layer.2.output.LayerNorm.weight\n",
      "This layer will be frozen: bert.encoder.layer.2.output.LayerNorm.bias\n",
      "This layer will be frozen: bert.pooler.dense.weight\n",
      "This layer will be frozen: bert.pooler.dense.bias\n",
      "This layer will be frozen: classifier.weight\n",
      "This layer will be frozen: classifier.bias\n"
     ]
    }
   ],
   "source": [
    "# num_classes:\n",
    "# swag - 4\n",
    "# amazon - 2\n",
    "# acronym - 5\n",
    "wandb.finish()\n",
    "discriminator = Discriminator(config=config, num_classes=2)\n",
    "gan = AdversarialKD(config=config, teacher_model_path='/home/maria/Documents/TheGreatKnowledgeHeist/out/model_checkpoints/amazon_polarity-model-epoch=08-val_f1=0.93.ckpt', discriminator_model=discriminator)"
   ],
   "metadata": {
    "collapsed": false,
    "pycharm": {
     "name": "#%%\n"
    }
   }
  },
  {
   "cell_type": "code",
   "execution_count": 23,
   "outputs": [
    {
     "data": {
      "text/plain": "<IPython.core.display.HTML object>",
      "text/html": "wandb version 0.12.18 is available!  To upgrade, please run:\n $ pip install wandb --upgrade"
     },
     "metadata": {},
     "output_type": "display_data"
    },
    {
     "data": {
      "text/plain": "<IPython.core.display.HTML object>",
      "text/html": "Tracking run with wandb version 0.12.17"
     },
     "metadata": {},
     "output_type": "display_data"
    },
    {
     "data": {
      "text/plain": "<IPython.core.display.HTML object>",
      "text/html": "Run data is saved locally in <code>/home/maria/Documents/TheGreatKnowledgeHeist/out/logs/wandb/run-20220612_185945-1c02qnmn</code>"
     },
     "metadata": {},
     "output_type": "display_data"
    },
    {
     "data": {
      "text/plain": "<IPython.core.display.HTML object>",
      "text/html": "Syncing run <strong><a href=\"https://wandb.ai/mma/Experiments/runs/1c02qnmn\" target=\"_blank\">denim-fire-75</a></strong> to <a href=\"https://wandb.ai/mma/Experiments\" target=\"_blank\">Weights & Biases</a> (<a href=\"https://wandb.me/run\" target=\"_blank\">docs</a>)<br/>"
     },
     "metadata": {},
     "output_type": "display_data"
    },
    {
     "name": "stderr",
     "output_type": "stream",
     "text": [
      "GPU available: True, used: True\n",
      "TPU available: False, using: 0 TPU cores\n",
      "IPU available: False, using: 0 IPUs\n",
      "HPU available: False, using: 0 HPUs\n",
      "LOCAL_RANK: 0 - CUDA_VISIBLE_DEVICES: [0]\n",
      "\n",
      "  | Name                | Type               | Params\n",
      "-----------------------------------------------------------\n",
      "0 | teacher             | AmazonPolarityBert | 109 M \n",
      "1 | student             | AmazonPolarityBert | 45.7 M\n",
      "2 | discriminator       | Discriminator      | 133 K \n",
      "3 | cross_entropy_loss  | CrossEntropyLoss   | 0     \n",
      "4 | binary_entropy_loss | BCELoss            | 0     \n",
      "-----------------------------------------------------------\n",
      "45.8 M    Trainable params\n",
      "109 M     Non-trainable params\n",
      "155 M     Total params\n",
      "621.241   Total estimated model params size (MB)\n"
     ]
    },
    {
     "data": {
      "text/plain": "Sanity Checking: 0it [00:00, ?it/s]",
      "application/vnd.jupyter.widget-view+json": {
       "version_major": 2,
       "version_minor": 0,
       "model_id": "bd96a7cbba95446a9c2b2756a4d257ac"
      }
     },
     "metadata": {},
     "output_type": "display_data"
    },
    {
     "name": "stderr",
     "output_type": "stream",
     "text": [
      "/home/maria/Documents/TheGreatKnowledgeHeist/venv/lib/python3.10/site-packages/pytorch_lightning/trainer/trainer.py:1927: PossibleUserWarning: The number of training batches (16) is smaller than the logging interval Trainer(log_every_n_steps=50). Set a lower value for log_every_n_steps if you want to see logs for the training epoch.\n",
      "  rank_zero_warn(\n"
     ]
    },
    {
     "data": {
      "text/plain": "Training: 0it [00:00, ?it/s]",
      "application/vnd.jupyter.widget-view+json": {
       "version_major": 2,
       "version_minor": 0,
       "model_id": "8582ee3450f34ee39368d463cbb6ded2"
      }
     },
     "metadata": {},
     "output_type": "display_data"
    },
    {
     "name": "stderr",
     "output_type": "stream",
     "text": [
      "/tmp/ipykernel_49683/343479805.py:65: UserWarning: Implicit dimension choice for softmax has been deprecated. Change the call to include dim=X as an argument.\n",
      "  return self.cross_entropy_loss(nn.Softmax()(outputs[:, :-1]), targets)\n"
     ]
    },
    {
     "data": {
      "text/plain": "Validation: 0it [00:00, ?it/s]",
      "application/vnd.jupyter.widget-view+json": {
       "version_major": 2,
       "version_minor": 0,
       "model_id": "a535e0324ef24598a9930c5e4e88581a"
      }
     },
     "metadata": {},
     "output_type": "display_data"
    },
    {
     "data": {
      "text/plain": "Validation: 0it [00:00, ?it/s]",
      "application/vnd.jupyter.widget-view+json": {
       "version_major": 2,
       "version_minor": 0,
       "model_id": "035e0783a5a94bcea09fb55c768d0e19"
      }
     },
     "metadata": {},
     "output_type": "display_data"
    },
    {
     "data": {
      "text/plain": "Validation: 0it [00:00, ?it/s]",
      "application/vnd.jupyter.widget-view+json": {
       "version_major": 2,
       "version_minor": 0,
       "model_id": "01f6844e81704a6e88b24911742a3df8"
      }
     },
     "metadata": {},
     "output_type": "display_data"
    },
    {
     "data": {
      "text/plain": "Validation: 0it [00:00, ?it/s]",
      "application/vnd.jupyter.widget-view+json": {
       "version_major": 2,
       "version_minor": 0,
       "model_id": "67687a63b53b44fb9684668adc225617"
      }
     },
     "metadata": {},
     "output_type": "display_data"
    },
    {
     "data": {
      "text/plain": "Validation: 0it [00:00, ?it/s]",
      "application/vnd.jupyter.widget-view+json": {
       "version_major": 2,
       "version_minor": 0,
       "model_id": "f73303aee33a4b34aa6cc7156b693c38"
      }
     },
     "metadata": {},
     "output_type": "display_data"
    },
    {
     "data": {
      "text/plain": "Validation: 0it [00:00, ?it/s]",
      "application/vnd.jupyter.widget-view+json": {
       "version_major": 2,
       "version_minor": 0,
       "model_id": "916aad7b560c47489f2fa5caf4083a8a"
      }
     },
     "metadata": {},
     "output_type": "display_data"
    },
    {
     "data": {
      "text/plain": "Validation: 0it [00:00, ?it/s]",
      "application/vnd.jupyter.widget-view+json": {
       "version_major": 2,
       "version_minor": 0,
       "model_id": "d703869ac9bd4cb28ddb6719c65361e8"
      }
     },
     "metadata": {},
     "output_type": "display_data"
    },
    {
     "data": {
      "text/plain": "Validation: 0it [00:00, ?it/s]",
      "application/vnd.jupyter.widget-view+json": {
       "version_major": 2,
       "version_minor": 0,
       "model_id": "d57aa81e4ede474ea899f3553c14b333"
      }
     },
     "metadata": {},
     "output_type": "display_data"
    },
    {
     "data": {
      "text/plain": "Validation: 0it [00:00, ?it/s]",
      "application/vnd.jupyter.widget-view+json": {
       "version_major": 2,
       "version_minor": 0,
       "model_id": "2a98558f61a846928dd51d0cf8dab0a1"
      }
     },
     "metadata": {},
     "output_type": "display_data"
    },
    {
     "data": {
      "text/plain": "Validation: 0it [00:00, ?it/s]",
      "application/vnd.jupyter.widget-view+json": {
       "version_major": 2,
       "version_minor": 0,
       "model_id": "942f3ad4834b4c1bad9e9bdbf945b381"
      }
     },
     "metadata": {},
     "output_type": "display_data"
    },
    {
     "data": {
      "text/plain": "<IPython.core.display.HTML object>",
      "text/html": "Waiting for W&B process to finish... <strong style=\"color:green\">(success).</strong>"
     },
     "metadata": {},
     "output_type": "display_data"
    },
    {
     "data": {
      "text/plain": "VBox(children=(Label(value='0.001 MB of 0.001 MB uploaded (0.000 MB deduped)\\r'), FloatProgress(value=1.0, max…",
      "application/vnd.jupyter.widget-view+json": {
       "version_major": 2,
       "version_minor": 0,
       "model_id": "d848b858638840049e49a49e02b6079c"
      }
     },
     "metadata": {},
     "output_type": "display_data"
    },
    {
     "data": {
      "text/plain": "<IPython.core.display.HTML object>",
      "text/html": "<style>\n    table.wandb td:nth-child(1) { padding: 0 10px; text-align: left ; width: auto;} td:nth-child(2) {text-align: left ; width: 100%}\n    .wandb-row { display: flex; flex-direction: row; flex-wrap: wrap; justify-content: flex-start; width: 100% }\n    .wandb-col { display: flex; flex-direction: column; flex-basis: 100%; flex: 1; padding: 10px; }\n    </style>\n<div class=\"wandb-row\"><div class=\"wandb-col\"><h3>Run history:</h3><br/><table class=\"wandb\"><tr><td>epoch</td><td>▁▂▃▃▃▄▅▆▆▆▇██</td></tr><tr><td>train_discriminator_loss</td><td>█▁▄</td></tr><tr><td>train_student_loss</td><td>█▃▁</td></tr><tr><td>train_student_supervised</td><td>█▁▆</td></tr><tr><td>trainer/global_step</td><td>▁▂▃▃▃▄▅▅▆▆▇██</td></tr><tr><td>val_loss</td><td>█▅█▆▁▃▆▁▇▁</td></tr></table><br/></div><div class=\"wandb-col\"><h3>Run summary:</h3><br/><table class=\"wandb\"><tr><td>epoch</td><td>9</td></tr><tr><td>train_discriminator_loss</td><td>0.70442</td></tr><tr><td>train_student_loss</td><td>0.76685</td></tr><tr><td>train_student_supervised</td><td>0.70166</td></tr><tr><td>trainer/global_step</td><td>159</td></tr><tr><td>val_loss</td><td>0.6926</td></tr></table><br/></div></div>"
     },
     "metadata": {},
     "output_type": "display_data"
    },
    {
     "data": {
      "text/plain": "<IPython.core.display.HTML object>",
      "text/html": "Synced <strong style=\"color:#cdcd00\">denim-fire-75</strong>: <a href=\"https://wandb.ai/mma/Experiments/runs/1c02qnmn\" target=\"_blank\">https://wandb.ai/mma/Experiments/runs/1c02qnmn</a><br/>Synced 5 W&B file(s), 0 media file(s), 0 artifact file(s) and 0 other file(s)"
     },
     "metadata": {},
     "output_type": "display_data"
    },
    {
     "data": {
      "text/plain": "<IPython.core.display.HTML object>",
      "text/html": "Find logs at: <code>/home/maria/Documents/TheGreatKnowledgeHeist/out/logs/wandb/run-20220612_185945-1c02qnmn/logs</code>"
     },
     "metadata": {},
     "output_type": "display_data"
    }
   ],
   "source": [
    "train_model(gan, dataloaders, config)"
   ],
   "metadata": {
    "collapsed": false,
    "pycharm": {
     "name": "#%%\n"
    }
   }
  },
  {
   "cell_type": "code",
   "execution_count": 24,
   "outputs": [],
   "source": [
    "torch.cuda.empty_cache()"
   ],
   "metadata": {
    "collapsed": false,
    "pycharm": {
     "name": "#%%\n"
    }
   }
  },
  {
   "cell_type": "code",
   "execution_count": 24,
   "outputs": [],
   "source": [],
   "metadata": {
    "collapsed": false,
    "pycharm": {
     "name": "#%%\n"
    }
   }
  }
 ],
 "metadata": {
  "kernelspec": {
   "display_name": "Python 3",
   "language": "python",
   "name": "python3"
  },
  "language_info": {
   "codemirror_mode": {
    "name": "ipython",
    "version": 2
   },
   "file_extension": ".py",
   "mimetype": "text/x-python",
   "name": "python",
   "nbconvert_exporter": "python",
   "pygments_lexer": "ipython2",
   "version": "2.7.6"
  }
 },
 "nbformat": 4,
 "nbformat_minor": 0
}