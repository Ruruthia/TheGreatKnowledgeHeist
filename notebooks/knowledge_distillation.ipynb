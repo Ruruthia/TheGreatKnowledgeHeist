{
 "cells": [
  {
   "cell_type": "code",
   "execution_count": 78,
   "outputs": [],
   "source": [
    "from argparse import ArgumentParser\n",
    "\n",
    "import pytorch_lightning as pl\n",
    "import wandb\n",
    "from pytorch_lightning import Trainer\n",
    "from pytorch_lightning.loggers import WandbLogger\n",
    "\n",
    "from thegreatknowledgeheist.data import get_dataloaders\n",
    "from thegreatknowledgeheist.io import load_yaml\n",
    "from thegreatknowledgeheist.models.bert import (\n",
    "    AcronymIdentificationBert,\n",
    "    AmazonPolarityBert,\n",
    "    SwagBert,\n",
    ")"
   ],
   "metadata": {
    "collapsed": false,
    "pycharm": {
     "name": "#%%\n"
    }
   }
  },
  {
   "cell_type": "code",
   "execution_count": 79,
   "outputs": [],
   "source": [
    "import torch\n",
    "from thegreatknowledgeheist.models.bert import BaseBert\n",
    "from transformers import BertForMultipleChoice, BertConfig\n",
    "\n",
    "class SwagBert(BaseBert):\n",
    "    def __init__(self, config, pretrained: bool = True, bert_config: BertConfig = None):\n",
    "        super().__init__(config)\n",
    "\n",
    "        if pretrained:\n",
    "            self.model = BertForMultipleChoice.from_pretrained(\n",
    "                \"bert-base-uncased\", num_labels=4, output_hidden_states=True,\n",
    "            )\n",
    "        else:\n",
    "            bert_config.output_hidden_states = True\n",
    "            self.model = BertForMultipleChoice(bert_config)\n",
    "\n",
    "\n",
    "    def calculate_accuracy(self, logits, labels):\n",
    "        preds = torch.argmax(logits, dim=1)\n",
    "        correct_preds = torch.sum(preds == labels)\n",
    "        return correct_preds / len(preds)\n"
   ],
   "metadata": {
    "collapsed": false,
    "pycharm": {
     "name": "#%%\n"
    }
   }
  },
  {
   "cell_type": "code",
   "execution_count": 80,
   "outputs": [],
   "source": [
    "GET_MODEL = {\n",
    "    \"amazon_polarity\": AmazonPolarityBert,\n",
    "    \"acronym_identification\": AcronymIdentificationBert,\n",
    "    \"swag\": SwagBert,\n",
    "}\n",
    "\n",
    "\n",
    "def train_model(model, dataloaders, config):\n",
    "    checkpoint_callback = pl.callbacks.ModelCheckpoint(\n",
    "        monitor=\"val_loss\",\n",
    "        dirpath=f\"{config['outputs_path']}/model_checkpoints\",\n",
    "        filename=config[\"task\"] + \"-model-{epoch:02d}-{val_accuracy:.2f}\",\n",
    "        save_top_k=1,\n",
    "        mode=\"min\",\n",
    "    )\n",
    "\n",
    "    trainer = Trainer(\n",
    "        logger=WandbLogger(\n",
    "            save_dir=f\"{config['outputs_path']}/logs\",\n",
    "            project=\"Experiments\",\n",
    "            entity=\"mma\",\n",
    "        ),\n",
    "#        gpus=config[\"gpus\"],\n",
    "        max_epochs=config[\"max_epochs\"],\n",
    "       callbacks=[checkpoint_callback],\n",
    "        accelerator='cpu',\n",
    "        devices=1\n",
    "    )\n",
    "\n",
    "    trainer.fit(model, dataloaders[\"train\"], dataloaders[\"val\"])\n",
    "    wandb.finish()\n"
   ],
   "metadata": {
    "collapsed": false,
    "pycharm": {
     "name": "#%%\n"
    }
   }
  },
  {
   "cell_type": "code",
   "execution_count": 81,
   "outputs": [],
   "source": [
    "config_path = '/pio/scratch/1/i308362/TheGreatKnowledgeHeist/scripts/train_config.yaml'\n"
   ],
   "metadata": {
    "collapsed": false,
    "pycharm": {
     "name": "#%%\n"
    }
   }
  },
  {
   "cell_type": "code",
   "execution_count": 82,
   "outputs": [
    {
     "name": "stderr",
     "output_type": "stream",
     "text": [
      "Some weights of the model checkpoint at bert-base-uncased were not used when initializing BertForMultipleChoice: ['cls.predictions.transform.dense.weight', 'cls.predictions.transform.dense.bias', 'cls.predictions.transform.LayerNorm.bias', 'cls.predictions.transform.LayerNorm.weight', 'cls.predictions.decoder.weight', 'cls.predictions.bias', 'cls.seq_relationship.bias', 'cls.seq_relationship.weight']\n",
      "- This IS expected if you are initializing BertForMultipleChoice from the checkpoint of a model trained on another task or with another architecture (e.g. initializing a BertForSequenceClassification model from a BertForPreTraining model).\n",
      "- This IS NOT expected if you are initializing BertForMultipleChoice from the checkpoint of a model that you expect to be exactly identical (initializing a BertForSequenceClassification model from a BertForSequenceClassification model).\n",
      "Some weights of BertForMultipleChoice were not initialized from the model checkpoint at bert-base-uncased and are newly initialized: ['classifier.weight', 'classifier.bias']\n",
      "You should probably TRAIN this model on a down-stream task to be able to use it for predictions and inference.\n",
      "Failed to detect the name of this notebook, you can set it manually with the WANDB_NOTEBOOK_NAME environment variable to enable code saving.\n",
      "\u001B[34m\u001B[1mwandb\u001B[0m: Currently logged in as: \u001B[33madrianurbanski\u001B[0m (\u001B[33mmma\u001B[0m). Use \u001B[1m`wandb login --relogin`\u001B[0m to force relogin\n",
      "\u001B[34m\u001B[1mwandb\u001B[0m: \u001B[33mWARNING\u001B[0m Path /pio/scratch/1/i308362/TheGreatKnowledgeHeist/logs/wandb/ wasn't writable, using system temp directory.\n",
      "wandb: WARNING Path /pio/scratch/1/i308362/TheGreatKnowledgeHeist/logs/wandb/ wasn't writable, using system temp directory\n"
     ]
    },
    {
     "data": {
      "text/plain": "<IPython.core.display.HTML object>",
      "text/html": "Tracking run with wandb version 0.12.17"
     },
     "metadata": {},
     "output_type": "display_data"
    },
    {
     "data": {
      "text/plain": "<IPython.core.display.HTML object>",
      "text/html": "Run data is saved locally in <code>/tmp/wandb/run-20220605_120327-18zm0pbi</code>"
     },
     "metadata": {},
     "output_type": "display_data"
    },
    {
     "data": {
      "text/plain": "<IPython.core.display.HTML object>",
      "text/html": "Syncing run <strong><a href=\"https://wandb.ai/mma/Experiments/runs/18zm0pbi\" target=\"_blank\">comfy-sun-7</a></strong> to <a href=\"https://wandb.ai/mma/Experiments\" target=\"_blank\">Weights & Biases</a> (<a href=\"https://wandb.me/run\" target=\"_blank\">docs</a>)<br/>"
     },
     "metadata": {},
     "output_type": "display_data"
    },
    {
     "name": "stderr",
     "output_type": "stream",
     "text": [
      "GPU available: False, used: False\n",
      "TPU available: False, using: 0 TPU cores\n",
      "IPU available: False, using: 0 IPUs\n",
      "HPU available: False, using: 0 HPUs\n",
      "/pio/scratch/1/i308362/miniconda3/envs/knowledge_heist/lib/python3.9/site-packages/pytorch_lightning/callbacks/model_checkpoint.py:611: UserWarning: Checkpoint directory /pio/scratch/1/i308362/TheGreatKnowledgeHeist/model_checkpoints exists and is not empty.\n",
      "  rank_zero_warn(f\"Checkpoint directory {dirpath} exists and is not empty.\")\n",
      "\n",
      "  | Name  | Type                  | Params\n",
      "------------------------------------------------\n",
      "0 | model | BertForMultipleChoice | 109 M \n",
      "------------------------------------------------\n",
      "109 M     Trainable params\n",
      "0         Non-trainable params\n",
      "109 M     Total params\n",
      "437.932   Total estimated model params size (MB)\n"
     ]
    },
    {
     "data": {
      "text/plain": "Sanity Checking: 0it [00:00, ?it/s]",
      "application/vnd.jupyter.widget-view+json": {
       "version_major": 2,
       "version_minor": 0,
       "model_id": "a131aa457dd348d881d95dbeeee6e60e"
      }
     },
     "metadata": {},
     "output_type": "display_data"
    },
    {
     "data": {
      "text/plain": "Training: 0it [00:00, ?it/s]",
      "application/vnd.jupyter.widget-view+json": {
       "version_major": 2,
       "version_minor": 0,
       "model_id": "8ea107e1ad00425ca2d0f1aa2f54182e"
      }
     },
     "metadata": {},
     "output_type": "display_data"
    },
    {
     "data": {
      "text/plain": "Validation: 0it [00:00, ?it/s]",
      "application/vnd.jupyter.widget-view+json": {
       "version_major": 2,
       "version_minor": 0,
       "model_id": "fff05b1b8a4148399b8c82535b2c8d41"
      }
     },
     "metadata": {},
     "output_type": "display_data"
    },
    {
     "data": {
      "text/plain": "<IPython.core.display.HTML object>",
      "text/html": "Waiting for W&B process to finish... <strong style=\"color:green\">(success).</strong>"
     },
     "metadata": {},
     "output_type": "display_data"
    },
    {
     "data": {
      "text/plain": "VBox(children=(Label(value='0.000 MB of 0.000 MB uploaded (0.000 MB deduped)\\r'), FloatProgress(value=1.0, max…",
      "application/vnd.jupyter.widget-view+json": {
       "version_major": 2,
       "version_minor": 0,
       "model_id": "5354ddc1ac2b402abb906a6b113ca7a2"
      }
     },
     "metadata": {},
     "output_type": "display_data"
    },
    {
     "data": {
      "text/plain": "<IPython.core.display.HTML object>",
      "text/html": "<style>\n    table.wandb td:nth-child(1) { padding: 0 10px; text-align: left ; width: auto;} td:nth-child(2) {text-align: left ; width: 100%}\n    .wandb-row { display: flex; flex-direction: row; flex-wrap: wrap; justify-content: flex-start; width: 100% }\n    .wandb-col { display: flex; flex-direction: column; flex-basis: 100%; flex: 1; padding: 10px; }\n    </style>\n<div class=\"wandb-row\"><div class=\"wandb-col\"><h3>Run history:</h3><br/><table class=\"wandb\"><tr><td>epoch</td><td>▁</td></tr><tr><td>trainer/global_step</td><td>▁</td></tr><tr><td>val_accuracy</td><td>▁</td></tr><tr><td>val_loss</td><td>▁</td></tr></table><br/></div><div class=\"wandb-col\"><h3>Run summary:</h3><br/><table class=\"wandb\"><tr><td>epoch</td><td>0</td></tr><tr><td>trainer/global_step</td><td>1</td></tr><tr><td>val_accuracy</td><td>0.0</td></tr><tr><td>val_loss</td><td>1.39726</td></tr></table><br/></div></div>"
     },
     "metadata": {},
     "output_type": "display_data"
    },
    {
     "data": {
      "text/plain": "<IPython.core.display.HTML object>",
      "text/html": "Synced <strong style=\"color:#cdcd00\">comfy-sun-7</strong>: <a href=\"https://wandb.ai/mma/Experiments/runs/18zm0pbi\" target=\"_blank\">https://wandb.ai/mma/Experiments/runs/18zm0pbi</a><br/>Synced 6 W&B file(s), 0 media file(s), 0 artifact file(s) and 0 other file(s)"
     },
     "metadata": {},
     "output_type": "display_data"
    },
    {
     "data": {
      "text/plain": "<IPython.core.display.HTML object>",
      "text/html": "Find logs at: <code>/tmp/wandb/run-20220605_120327-18zm0pbi/logs</code>"
     },
     "metadata": {},
     "output_type": "display_data"
    }
   ],
   "source": [
    "config = load_yaml(config_path)\n",
    "dataloaders = get_dataloaders(\n",
    "    dataset_name=config[\"task\"],\n",
    "    path_to_dataset=f\"{config['dataset_path']}/{config['task']}\",\n",
    "    batch_size=config[\"batch_size\"],\n",
    "    num_workers=config[\"num_workers\"],\n",
    ")\n",
    "\n",
    "model = GET_MODEL[config[\"task\"]](config={\"lr\": config[\"lr\"], \"eps\": config[\"eps\"]})\n",
    "train_model(model, dataloaders, config)"
   ],
   "metadata": {
    "collapsed": false,
    "pycharm": {
     "name": "#%%\n"
    }
   }
  },
  {
   "cell_type": "code",
   "execution_count": 83,
   "outputs": [],
   "source": [
    "bert_config = BertConfig(\n",
    "    num_hidden_layers=6,\n",
    "    num_attention_heads=6,\n",
    ")\n",
    "small_model = SwagBert(config, pretrained=False, bert_config=bert_config)"
   ],
   "metadata": {
    "collapsed": false,
    "pycharm": {
     "name": "#%%\n"
    }
   }
  },
  {
   "cell_type": "code",
   "execution_count": 84,
   "outputs": [],
   "source": [
    "from abc import ABC, abstractmethod\n",
    "from torch.optim import Adam\n",
    "\n",
    "class BaseKD(pl.LightningModule, ABC):\n",
    "    def __init__(self, config, teacher_model: BaseBert, student_model: BaseBert):\n",
    "        super().__init__()\n",
    "        self.lr = config[\"lr\"]\n",
    "        self.eps = config[\"eps\"]\n",
    "\n",
    "        self.teacher = teacher_model\n",
    "        self.teacher.freeze()\n",
    "        self.student = student_model\n",
    "        self.student.unfreeze()\n",
    "\n",
    "    @abstractmethod\n",
    "    def logits_loss(self, student_logits, teacher_logits):\n",
    "        pass\n",
    "\n",
    "    @abstractmethod\n",
    "    def layers_loss(self, student_layers, teacher_layers):\n",
    "        pass\n",
    "\n",
    "    def configure_optimizers(self):\n",
    "        optimizer = Adam(self.student.parameters(), lr=self.lr, eps=self.eps)\n",
    "        return optimizer\n",
    "\n",
    "    def forward(self, **inputs):\n",
    "        student_outputs = self.student(**inputs)\n",
    "        teacher_outputs = self.teacher(**inputs)\n",
    "        return student_outputs, teacher_outputs\n",
    "\n",
    "    def training_step(self, batch, batch_idx):\n",
    "        student_outputs, teacher_outputs = self(**batch)\n",
    "        accuracy = self.student.calculate_accuracy(student_outputs['logits'], batch[\"labels\"])\n",
    "        loss = (\n",
    "                student_outputs['loss']\n",
    "                + self.logits_loss(student_outputs['logits'], teacher_outputs['logits'])\n",
    "                + self.layers_loss(student_outputs['hidden_states'], teacher_outputs['hidden_states'])\n",
    "        )\n",
    "        self.log(\"train_loss\", loss)\n",
    "        self.log(\"train_accuracy\", accuracy)\n",
    "        return loss\n",
    "\n",
    "    def validation_step(self, batch, batch_idx):\n",
    "        student_outputs, teacher_outputs = self(**batch)\n",
    "        accuracy = self.student.calculate_accuracy(student_outputs['logits'], batch[\"labels\"])\n",
    "        loss = (\n",
    "                student_outputs['loss']\n",
    "                + self.logits_loss(student_outputs['logits'], teacher_outputs['logits'])\n",
    "                + self.layers_loss(student_outputs['hidden_states'], teacher_outputs['hidden_states'])\n",
    "        )\n",
    "        self.log(\"val_loss\", loss)\n",
    "        self.log(\"val_accuracy\", accuracy)\n",
    "        return loss"
   ],
   "metadata": {
    "collapsed": false,
    "pycharm": {
     "name": "#%%\n"
    }
   }
  },
  {
   "cell_type": "code",
   "execution_count": 85,
   "outputs": [],
   "source": [
    "from torch.nn.functional import softmax, kl_div\n",
    "\n",
    "class LogitsKD(BaseKD):\n",
    "    def __init__(self, config, teacher_model: BaseBert, student_model: BaseBert, temperature: float = 1):\n",
    "        super().__init__(config, teacher_model, student_model)\n",
    "\n",
    "        self._T = temperature\n",
    "\n",
    "    def logits_loss(self, student_logits, teacher_logits):\n",
    "        return kl_div(\n",
    "            softmax(student_logits / self._T, dim=1),\n",
    "            softmax(teacher_logits / self._T, dim=1),\n",
    "            reduction='batchmean'\n",
    "        )\n",
    "\n",
    "    def layers_loss(self, student_layers, teacher_layers):\n",
    "        return 0"
   ],
   "metadata": {
    "collapsed": false,
    "pycharm": {
     "name": "#%%\n"
    }
   }
  },
  {
   "cell_type": "code",
   "execution_count": 86,
   "outputs": [],
   "source": [
    "distilled_model = LogitsKD(config, model, small_model)"
   ],
   "metadata": {
    "collapsed": false,
    "pycharm": {
     "name": "#%%\n"
    }
   }
  },
  {
   "cell_type": "code",
   "execution_count": 87,
   "outputs": [
    {
     "data": {
      "text/plain": "<IPython.core.display.HTML object>",
      "text/html": "Tracking run with wandb version 0.12.17"
     },
     "metadata": {},
     "output_type": "display_data"
    },
    {
     "data": {
      "text/plain": "<IPython.core.display.HTML object>",
      "text/html": "Run data is saved locally in <code>/tmp/wandb/run-20220605_120417-1gdfxvid</code>"
     },
     "metadata": {},
     "output_type": "display_data"
    },
    {
     "data": {
      "text/plain": "<IPython.core.display.HTML object>",
      "text/html": "Syncing run <strong><a href=\"https://wandb.ai/mma/Experiments/runs/1gdfxvid\" target=\"_blank\">misunderstood-fog-8</a></strong> to <a href=\"https://wandb.ai/mma/Experiments\" target=\"_blank\">Weights & Biases</a> (<a href=\"https://wandb.me/run\" target=\"_blank\">docs</a>)<br/>"
     },
     "metadata": {},
     "output_type": "display_data"
    },
    {
     "name": "stderr",
     "output_type": "stream",
     "text": [
      "GPU available: False, used: False\n",
      "TPU available: False, using: 0 TPU cores\n",
      "IPU available: False, using: 0 IPUs\n",
      "HPU available: False, using: 0 HPUs\n",
      "\n",
      "  | Name    | Type     | Params\n",
      "-------------------------------------\n",
      "0 | teacher | SwagBert | 109 M \n",
      "1 | student | SwagBert | 67.0 M\n",
      "-------------------------------------\n",
      "67.0 M    Trainable params\n",
      "109 M     Non-trainable params\n",
      "176 M     Total params\n",
      "705.755   Total estimated model params size (MB)\n"
     ]
    },
    {
     "data": {
      "text/plain": "Sanity Checking: 0it [00:00, ?it/s]",
      "application/vnd.jupyter.widget-view+json": {
       "version_major": 2,
       "version_minor": 0,
       "model_id": "b898911f25ac4f6db309c743031f9914"
      }
     },
     "metadata": {},
     "output_type": "display_data"
    },
    {
     "data": {
      "text/plain": "Training: 0it [00:00, ?it/s]",
      "application/vnd.jupyter.widget-view+json": {
       "version_major": 2,
       "version_minor": 0,
       "model_id": "1618caf7a6224b5b9a56b053240da1ff"
      }
     },
     "metadata": {},
     "output_type": "display_data"
    },
    {
     "data": {
      "text/plain": "Validation: 0it [00:00, ?it/s]",
      "application/vnd.jupyter.widget-view+json": {
       "version_major": 2,
       "version_minor": 0,
       "model_id": "ee7c8d59bc574860bdc8d31948f86530"
      }
     },
     "metadata": {},
     "output_type": "display_data"
    },
    {
     "data": {
      "text/plain": "<IPython.core.display.HTML object>",
      "text/html": "Waiting for W&B process to finish... <strong style=\"color:green\">(success).</strong>"
     },
     "metadata": {},
     "output_type": "display_data"
    },
    {
     "data": {
      "text/plain": "VBox(children=(Label(value='0.000 MB of 0.000 MB uploaded (0.000 MB deduped)\\r'), FloatProgress(value=1.0, max…",
      "application/vnd.jupyter.widget-view+json": {
       "version_major": 2,
       "version_minor": 0,
       "model_id": "54cf3ac539d042129fe4ee9eb4bd211a"
      }
     },
     "metadata": {},
     "output_type": "display_data"
    },
    {
     "data": {
      "text/plain": "<IPython.core.display.HTML object>",
      "text/html": "<style>\n    table.wandb td:nth-child(1) { padding: 0 10px; text-align: left ; width: auto;} td:nth-child(2) {text-align: left ; width: 100%}\n    .wandb-row { display: flex; flex-direction: row; flex-wrap: wrap; justify-content: flex-start; width: 100% }\n    .wandb-col { display: flex; flex-direction: column; flex-basis: 100%; flex: 1; padding: 10px; }\n    </style>\n<div class=\"wandb-row\"><div class=\"wandb-col\"><h3>Run history:</h3><br/><table class=\"wandb\"><tr><td>epoch</td><td>▁</td></tr><tr><td>trainer/global_step</td><td>▁</td></tr><tr><td>val_accuracy</td><td>▁</td></tr><tr><td>val_loss</td><td>▁</td></tr></table><br/></div><div class=\"wandb-col\"><h3>Run summary:</h3><br/><table class=\"wandb\"><tr><td>epoch</td><td>0</td></tr><tr><td>trainer/global_step</td><td>1</td></tr><tr><td>val_accuracy</td><td>0.2</td></tr><tr><td>val_loss</td><td>-0.23985</td></tr></table><br/></div></div>"
     },
     "metadata": {},
     "output_type": "display_data"
    },
    {
     "data": {
      "text/plain": "<IPython.core.display.HTML object>",
      "text/html": "Synced <strong style=\"color:#cdcd00\">misunderstood-fog-8</strong>: <a href=\"https://wandb.ai/mma/Experiments/runs/1gdfxvid\" target=\"_blank\">https://wandb.ai/mma/Experiments/runs/1gdfxvid</a><br/>Synced 6 W&B file(s), 0 media file(s), 0 artifact file(s) and 0 other file(s)"
     },
     "metadata": {},
     "output_type": "display_data"
    },
    {
     "data": {
      "text/plain": "<IPython.core.display.HTML object>",
      "text/html": "Find logs at: <code>/tmp/wandb/run-20220605_120417-1gdfxvid/logs</code>"
     },
     "metadata": {},
     "output_type": "display_data"
    }
   ],
   "source": [
    "train_model(distilled_model, dataloaders, config)"
   ],
   "metadata": {
    "collapsed": false,
    "pycharm": {
     "name": "#%%\n"
    }
   }
  },
  {
   "cell_type": "code",
   "execution_count": null,
   "outputs": [],
   "source": [],
   "metadata": {
    "collapsed": false,
    "pycharm": {
     "name": "#%%\n"
    }
   }
  }
 ],
 "metadata": {
  "kernelspec": {
   "display_name": "Python 3",
   "language": "python",
   "name": "python3"
  },
  "language_info": {
   "codemirror_mode": {
    "name": "ipython",
    "version": 2
   },
   "file_extension": ".py",
   "mimetype": "text/x-python",
   "name": "python",
   "nbconvert_exporter": "python",
   "pygments_lexer": "ipython2",
   "version": "2.7.6"
  }
 },
 "nbformat": 4,
 "nbformat_minor": 0
}